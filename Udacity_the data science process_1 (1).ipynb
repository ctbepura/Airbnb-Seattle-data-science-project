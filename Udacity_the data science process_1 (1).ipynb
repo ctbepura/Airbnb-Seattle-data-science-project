{
 "cells": [
  {
   "cell_type": "code",
   "execution_count": 195,
   "metadata": {},
   "outputs": [],
   "source": [
    "import numpy as np\n",
    "import pandas as pd\n",
    "import matplotlib.pyplot as plt\n",
    "from sklearn.linear_model import LinearRegression\n",
    "from sklearn.model_selection import train_test_split\n",
    "from sklearn.metrics import r2_score, mean_squared_error\n",
    "from datetime import date\n",
    "import math\n",
    "import seaborn as sns\n",
    "%matplotlib inline"
   ]
  },
  {
   "cell_type": "code",
   "execution_count": 196,
   "metadata": {
    "scrolled": true
   },
   "outputs": [
    {
     "data": {
      "text/html": [
       "<div>\n",
       "<style scoped>\n",
       "    .dataframe tbody tr th:only-of-type {\n",
       "        vertical-align: middle;\n",
       "    }\n",
       "\n",
       "    .dataframe tbody tr th {\n",
       "        vertical-align: top;\n",
       "    }\n",
       "\n",
       "    .dataframe thead th {\n",
       "        text-align: right;\n",
       "    }\n",
       "</style>\n",
       "<table border=\"1\" class=\"dataframe\">\n",
       "  <thead>\n",
       "    <tr style=\"text-align: right;\">\n",
       "      <th></th>\n",
       "      <th>id</th>\n",
       "      <th>listing_url</th>\n",
       "      <th>scrape_id</th>\n",
       "      <th>last_scraped</th>\n",
       "      <th>name</th>\n",
       "      <th>summary</th>\n",
       "      <th>space</th>\n",
       "      <th>description</th>\n",
       "      <th>experiences_offered</th>\n",
       "      <th>neighborhood_overview</th>\n",
       "      <th>...</th>\n",
       "      <th>review_scores_value</th>\n",
       "      <th>requires_license</th>\n",
       "      <th>license</th>\n",
       "      <th>jurisdiction_names</th>\n",
       "      <th>instant_bookable</th>\n",
       "      <th>cancellation_policy</th>\n",
       "      <th>require_guest_profile_picture</th>\n",
       "      <th>require_guest_phone_verification</th>\n",
       "      <th>calculated_host_listings_count</th>\n",
       "      <th>reviews_per_month</th>\n",
       "    </tr>\n",
       "  </thead>\n",
       "  <tbody>\n",
       "    <tr>\n",
       "      <th>0</th>\n",
       "      <td>241032</td>\n",
       "      <td>https://www.airbnb.com/rooms/241032</td>\n",
       "      <td>20160104002432</td>\n",
       "      <td>2016-01-04</td>\n",
       "      <td>Stylish Queen Anne Apartment</td>\n",
       "      <td>NaN</td>\n",
       "      <td>Make your self at home in this charming one-be...</td>\n",
       "      <td>Make your self at home in this charming one-be...</td>\n",
       "      <td>none</td>\n",
       "      <td>NaN</td>\n",
       "      <td>...</td>\n",
       "      <td>10.0</td>\n",
       "      <td>f</td>\n",
       "      <td>NaN</td>\n",
       "      <td>WASHINGTON</td>\n",
       "      <td>f</td>\n",
       "      <td>moderate</td>\n",
       "      <td>f</td>\n",
       "      <td>f</td>\n",
       "      <td>2</td>\n",
       "      <td>4.07</td>\n",
       "    </tr>\n",
       "    <tr>\n",
       "      <th>1</th>\n",
       "      <td>953595</td>\n",
       "      <td>https://www.airbnb.com/rooms/953595</td>\n",
       "      <td>20160104002432</td>\n",
       "      <td>2016-01-04</td>\n",
       "      <td>Bright &amp; Airy Queen Anne Apartment</td>\n",
       "      <td>Chemically sensitive? We've removed the irrita...</td>\n",
       "      <td>Beautiful, hypoallergenic apartment in an extr...</td>\n",
       "      <td>Chemically sensitive? We've removed the irrita...</td>\n",
       "      <td>none</td>\n",
       "      <td>Queen Anne is a wonderful, truly functional vi...</td>\n",
       "      <td>...</td>\n",
       "      <td>10.0</td>\n",
       "      <td>f</td>\n",
       "      <td>NaN</td>\n",
       "      <td>WASHINGTON</td>\n",
       "      <td>f</td>\n",
       "      <td>strict</td>\n",
       "      <td>t</td>\n",
       "      <td>t</td>\n",
       "      <td>6</td>\n",
       "      <td>1.48</td>\n",
       "    </tr>\n",
       "  </tbody>\n",
       "</table>\n",
       "<p>2 rows × 92 columns</p>\n",
       "</div>"
      ],
      "text/plain": [
       "       id                          listing_url       scrape_id last_scraped  \\\n",
       "0  241032  https://www.airbnb.com/rooms/241032  20160104002432   2016-01-04   \n",
       "1  953595  https://www.airbnb.com/rooms/953595  20160104002432   2016-01-04   \n",
       "\n",
       "                                 name  \\\n",
       "0        Stylish Queen Anne Apartment   \n",
       "1  Bright & Airy Queen Anne Apartment   \n",
       "\n",
       "                                             summary  \\\n",
       "0                                                NaN   \n",
       "1  Chemically sensitive? We've removed the irrita...   \n",
       "\n",
       "                                               space  \\\n",
       "0  Make your self at home in this charming one-be...   \n",
       "1  Beautiful, hypoallergenic apartment in an extr...   \n",
       "\n",
       "                                         description experiences_offered  \\\n",
       "0  Make your self at home in this charming one-be...                none   \n",
       "1  Chemically sensitive? We've removed the irrita...                none   \n",
       "\n",
       "                               neighborhood_overview        ...         \\\n",
       "0                                                NaN        ...          \n",
       "1  Queen Anne is a wonderful, truly functional vi...        ...          \n",
       "\n",
       "  review_scores_value requires_license license jurisdiction_names  \\\n",
       "0                10.0                f     NaN         WASHINGTON   \n",
       "1                10.0                f     NaN         WASHINGTON   \n",
       "\n",
       "  instant_bookable cancellation_policy  require_guest_profile_picture  \\\n",
       "0                f            moderate                              f   \n",
       "1                f              strict                              t   \n",
       "\n",
       "  require_guest_phone_verification calculated_host_listings_count  \\\n",
       "0                                f                              2   \n",
       "1                                t                              6   \n",
       "\n",
       "  reviews_per_month  \n",
       "0              4.07  \n",
       "1              1.48  \n",
       "\n",
       "[2 rows x 92 columns]"
      ]
     },
     "execution_count": 196,
     "metadata": {},
     "output_type": "execute_result"
    }
   ],
   "source": [
    "#A look at the data\n",
    "#Reading in the raw Seattle Airbnb data and looking at the structure of the raw data\n",
    "\n",
    "df_raw = pd.read_csv('./listings.csv')\n",
    "df_raw.head(2)"
   ]
  },
  {
   "cell_type": "code",
   "execution_count": 197,
   "metadata": {},
   "outputs": [
    {
     "data": {
      "text/plain": [
       "(3818, 92)"
      ]
     },
     "execution_count": 197,
     "metadata": {},
     "output_type": "execute_result"
    }
   ],
   "source": [
    "#A look at the data\n",
    "#(number of rows, number of columns) in the raw data\n",
    "df_raw.shape"
   ]
  },
  {
   "cell_type": "code",
   "execution_count": 198,
   "metadata": {
    "scrolled": true
   },
   "outputs": [
    {
     "data": {
      "text/plain": [
       "Index(['id', 'listing_url', 'scrape_id', 'last_scraped', 'name', 'summary',\n",
       "       'space', 'description', 'experiences_offered', 'neighborhood_overview',\n",
       "       'notes', 'transit', 'thumbnail_url', 'medium_url', 'picture_url',\n",
       "       'xl_picture_url', 'host_id', 'host_url', 'host_name', 'host_since',\n",
       "       'host_location', 'host_about', 'host_response_time',\n",
       "       'host_response_rate', 'host_acceptance_rate', 'host_is_superhost',\n",
       "       'host_thumbnail_url', 'host_picture_url', 'host_neighbourhood',\n",
       "       'host_listings_count', 'host_total_listings_count',\n",
       "       'host_verifications', 'host_has_profile_pic', 'host_identity_verified',\n",
       "       'street', 'neighbourhood', 'neighbourhood_cleansed',\n",
       "       'neighbourhood_group_cleansed', 'city', 'state', 'zipcode', 'market',\n",
       "       'smart_location', 'country_code', 'country', 'latitude', 'longitude',\n",
       "       'is_location_exact', 'property_type', 'room_type', 'accommodates',\n",
       "       'bathrooms', 'bedrooms', 'beds', 'bed_type', 'amenities', 'square_feet',\n",
       "       'price', 'weekly_price', 'monthly_price', 'security_deposit',\n",
       "       'cleaning_fee', 'guests_included', 'extra_people', 'minimum_nights',\n",
       "       'maximum_nights', 'calendar_updated', 'has_availability',\n",
       "       'availability_30', 'availability_60', 'availability_90',\n",
       "       'availability_365', 'calendar_last_scraped', 'number_of_reviews',\n",
       "       'first_review', 'last_review', 'review_scores_rating',\n",
       "       'review_scores_accuracy', 'review_scores_cleanliness',\n",
       "       'review_scores_checkin', 'review_scores_communication',\n",
       "       'review_scores_location', 'review_scores_value', 'requires_license',\n",
       "       'license', 'jurisdiction_names', 'instant_bookable',\n",
       "       'cancellation_policy', 'require_guest_profile_picture',\n",
       "       'require_guest_phone_verification', 'calculated_host_listings_count',\n",
       "       'reviews_per_month'],\n",
       "      dtype='object')"
      ]
     },
     "execution_count": 198,
     "metadata": {},
     "output_type": "execute_result"
    }
   ],
   "source": [
    "#A look at the data\n",
    "#All the column names in the raw data\n",
    "df_raw.columns"
   ]
  },
  {
   "cell_type": "code",
   "execution_count": 199,
   "metadata": {},
   "outputs": [
    {
     "data": {
      "text/plain": [
       "license                             3818\n",
       "square_feet                         3721\n",
       "monthly_price                       2301\n",
       "security_deposit                    1952\n",
       "weekly_price                        1809\n",
       "notes                               1606\n",
       "neighborhood_overview               1032\n",
       "cleaning_fee                        1030\n",
       "transit                              934\n",
       "host_about                           859\n",
       "host_acceptance_rate                 773\n",
       "review_scores_accuracy               658\n",
       "review_scores_checkin                658\n",
       "review_scores_value                  656\n",
       "review_scores_location               655\n",
       "review_scores_cleanliness            653\n",
       "review_scores_communication          651\n",
       "review_scores_rating                 647\n",
       "reviews_per_month                    627\n",
       "first_review                         627\n",
       "last_review                          627\n",
       "space                                569\n",
       "host_response_time                   523\n",
       "host_response_rate                   523\n",
       "neighbourhood                        416\n",
       "xl_picture_url                       320\n",
       "thumbnail_url                        320\n",
       "medium_url                           320\n",
       "host_neighbourhood                   300\n",
       "summary                              177\n",
       "                                    ... \n",
       "availability_60                        0\n",
       "availability_90                        0\n",
       "availability_365                       0\n",
       "number_of_reviews                      0\n",
       "minimum_nights                         0\n",
       "requires_license                       0\n",
       "jurisdiction_names                     0\n",
       "instant_bookable                       0\n",
       "cancellation_policy                    0\n",
       "require_guest_profile_picture          0\n",
       "require_guest_phone_verification       0\n",
       "maximum_nights                         0\n",
       "extra_people                           0\n",
       "neighbourhood_group_cleansed           0\n",
       "calculated_host_listings_count         0\n",
       "city                                   0\n",
       "state                                  0\n",
       "market                                 0\n",
       "smart_location                         0\n",
       "country_code                           0\n",
       "country                                0\n",
       "longitude                              0\n",
       "guests_included                        0\n",
       "is_location_exact                      0\n",
       "room_type                              0\n",
       "accommodates                           0\n",
       "bed_type                               0\n",
       "amenities                              0\n",
       "price                                  0\n",
       "id                                     0\n",
       "Length: 92, dtype: int64"
      ]
     },
     "execution_count": 199,
     "metadata": {},
     "output_type": "execute_result"
    }
   ],
   "source": [
    "#A look at data\n",
    "#Columns with missing data in the raw data set descending order\n",
    "np.sum(df_raw.isnull()).sort_values(ascending = False)\n"
   ]
  },
  {
   "cell_type": "code",
   "execution_count": 200,
   "metadata": {},
   "outputs": [
    {
     "data": {
      "text/plain": [
       "{'license', 'monthly_price', 'security_deposit', 'square_feet'}"
      ]
     },
     "execution_count": 200,
     "metadata": {},
     "output_type": "execute_result"
    }
   ],
   "source": [
    "#A look at data\n",
    "#Columns with more than 50% values missing\n",
    "#Drop these columns\n",
    "\n",
    "set(df_raw.columns[df_raw.isnull().mean() > .50])"
   ]
  },
  {
   "cell_type": "markdown",
   "metadata": {},
   "source": [
    "#### Questions\n",
    "\n",
    "**1.** Does the number of **amenities** (e.g. heating, TV, wireless internet, washer, dryer etc) affect demand for 1 bed room types (as shown by **availability**). Is it worth investing in a lot of amenities to boost demand for a 1 bed?"
   ]
  },
  {
   "cell_type": "markdown",
   "metadata": {},
   "source": [
    "**2.** Do hosts categorised as **superhosts** generally receive higher review scores than hosts that are not superhosts?"
   ]
  },
  {
   "cell_type": "markdown",
   "metadata": {},
   "source": [
    "**3.** How well can we predict price using  the data that we have?"
   ]
  },
  {
   "cell_type": "code",
   "execution_count": 201,
   "metadata": {},
   "outputs": [],
   "source": [
    "#Preparing the data\n",
    "#Creating a data frame (df) with only the columns that I MAY need to answer the 3 questions above. \n",
    "#Some of the columns that were taken out were for the following reasons:\n",
    "#No variability (one value for all) - e.g. Market, country, requires_license\n",
    "#No statistical significance - e.g. picture url, description, name, host url etc\n",
    "#Columns with more than 50% missing values e.g. 'license', 'monthly_price', 'security_deposit', 'square_feet'\n",
    "\n",
    "df = df_raw[[\n",
    "       'host_since',\n",
    "       'host_location', 'host_about', 'host_response_time',\n",
    "       'host_response_rate', 'host_acceptance_rate', 'host_is_superhost',\n",
    "       'host_picture_url', 'host_neighbourhood',\n",
    "       'host_listings_count', 'host_total_listings_count',\n",
    "       'host_verifications', 'host_has_profile_pic', 'host_identity_verified',\n",
    "       'neighbourhood_cleansed',\n",
    "       'neighbourhood_group_cleansed',\n",
    "       'is_location_exact', 'property_type', 'room_type', 'accommodates',\n",
    "       'bathrooms', 'bedrooms', 'beds', 'bed_type', 'amenities',\n",
    "       'price', 'weekly_price',\n",
    "       'cleaning_fee', 'guests_included', 'extra_people', 'minimum_nights',\n",
    "       'maximum_nights', 'calendar_updated', 'has_availability',\n",
    "       'availability_30', 'availability_60', 'availability_90',\n",
    "       'availability_365', 'number_of_reviews',\n",
    "       'first_review', 'last_review', 'review_scores_rating',\n",
    "       'review_scores_accuracy', 'review_scores_cleanliness',\n",
    "       'review_scores_checkin', 'review_scores_communication',\n",
    "       'review_scores_location', 'review_scores_value',\n",
    "       'instant_bookable',\n",
    "       'cancellation_policy', 'require_guest_profile_picture',\n",
    "       'require_guest_phone_verification', 'calculated_host_listings_count',\n",
    "       'reviews_per_month']]"
   ]
  },
  {
   "cell_type": "code",
   "execution_count": 202,
   "metadata": {},
   "outputs": [
    {
     "data": {
      "text/plain": [
       "(3818, 54)"
      ]
     },
     "execution_count": 202,
     "metadata": {},
     "output_type": "execute_result"
    }
   ],
   "source": [
    "#A look at the data\n",
    "#(number of rows, number of columns) in the new data frame (df) data\n",
    "df.shape"
   ]
  },
  {
   "cell_type": "code",
   "execution_count": 203,
   "metadata": {
    "scrolled": true
   },
   "outputs": [
    {
     "data": {
      "text/html": [
       "<div>\n",
       "<style scoped>\n",
       "    .dataframe tbody tr th:only-of-type {\n",
       "        vertical-align: middle;\n",
       "    }\n",
       "\n",
       "    .dataframe tbody tr th {\n",
       "        vertical-align: top;\n",
       "    }\n",
       "\n",
       "    .dataframe thead th {\n",
       "        text-align: right;\n",
       "    }\n",
       "</style>\n",
       "<table border=\"1\" class=\"dataframe\">\n",
       "  <thead>\n",
       "    <tr style=\"text-align: right;\">\n",
       "      <th></th>\n",
       "      <th>host_listings_count</th>\n",
       "      <th>host_total_listings_count</th>\n",
       "      <th>accommodates</th>\n",
       "      <th>bathrooms</th>\n",
       "      <th>bedrooms</th>\n",
       "      <th>beds</th>\n",
       "      <th>guests_included</th>\n",
       "      <th>minimum_nights</th>\n",
       "      <th>maximum_nights</th>\n",
       "      <th>availability_30</th>\n",
       "      <th>...</th>\n",
       "      <th>number_of_reviews</th>\n",
       "      <th>review_scores_rating</th>\n",
       "      <th>review_scores_accuracy</th>\n",
       "      <th>review_scores_cleanliness</th>\n",
       "      <th>review_scores_checkin</th>\n",
       "      <th>review_scores_communication</th>\n",
       "      <th>review_scores_location</th>\n",
       "      <th>review_scores_value</th>\n",
       "      <th>calculated_host_listings_count</th>\n",
       "      <th>reviews_per_month</th>\n",
       "    </tr>\n",
       "  </thead>\n",
       "  <tbody>\n",
       "    <tr>\n",
       "      <th>count</th>\n",
       "      <td>3816.000000</td>\n",
       "      <td>3816.000000</td>\n",
       "      <td>3818.000000</td>\n",
       "      <td>3802.000000</td>\n",
       "      <td>3812.000000</td>\n",
       "      <td>3817.000000</td>\n",
       "      <td>3818.000000</td>\n",
       "      <td>3818.000000</td>\n",
       "      <td>3818.000000</td>\n",
       "      <td>3818.000000</td>\n",
       "      <td>...</td>\n",
       "      <td>3818.000000</td>\n",
       "      <td>3171.000000</td>\n",
       "      <td>3160.000000</td>\n",
       "      <td>3165.000000</td>\n",
       "      <td>3160.000000</td>\n",
       "      <td>3167.000000</td>\n",
       "      <td>3163.000000</td>\n",
       "      <td>3162.000000</td>\n",
       "      <td>3818.000000</td>\n",
       "      <td>3191.000000</td>\n",
       "    </tr>\n",
       "    <tr>\n",
       "      <th>mean</th>\n",
       "      <td>7.157757</td>\n",
       "      <td>7.157757</td>\n",
       "      <td>3.349398</td>\n",
       "      <td>1.259469</td>\n",
       "      <td>1.307712</td>\n",
       "      <td>1.735394</td>\n",
       "      <td>1.672603</td>\n",
       "      <td>2.369303</td>\n",
       "      <td>780.447617</td>\n",
       "      <td>16.786276</td>\n",
       "      <td>...</td>\n",
       "      <td>22.223415</td>\n",
       "      <td>94.539262</td>\n",
       "      <td>9.636392</td>\n",
       "      <td>9.556398</td>\n",
       "      <td>9.786709</td>\n",
       "      <td>9.809599</td>\n",
       "      <td>9.608916</td>\n",
       "      <td>9.452245</td>\n",
       "      <td>2.946307</td>\n",
       "      <td>2.078919</td>\n",
       "    </tr>\n",
       "    <tr>\n",
       "      <th>std</th>\n",
       "      <td>28.628149</td>\n",
       "      <td>28.628149</td>\n",
       "      <td>1.977599</td>\n",
       "      <td>0.590369</td>\n",
       "      <td>0.883395</td>\n",
       "      <td>1.139480</td>\n",
       "      <td>1.311040</td>\n",
       "      <td>16.305902</td>\n",
       "      <td>1683.589007</td>\n",
       "      <td>12.173637</td>\n",
       "      <td>...</td>\n",
       "      <td>37.730892</td>\n",
       "      <td>6.606083</td>\n",
       "      <td>0.698031</td>\n",
       "      <td>0.797274</td>\n",
       "      <td>0.595499</td>\n",
       "      <td>0.568211</td>\n",
       "      <td>0.629053</td>\n",
       "      <td>0.750259</td>\n",
       "      <td>5.893029</td>\n",
       "      <td>1.822348</td>\n",
       "    </tr>\n",
       "    <tr>\n",
       "      <th>min</th>\n",
       "      <td>1.000000</td>\n",
       "      <td>1.000000</td>\n",
       "      <td>1.000000</td>\n",
       "      <td>0.000000</td>\n",
       "      <td>0.000000</td>\n",
       "      <td>1.000000</td>\n",
       "      <td>0.000000</td>\n",
       "      <td>1.000000</td>\n",
       "      <td>1.000000</td>\n",
       "      <td>0.000000</td>\n",
       "      <td>...</td>\n",
       "      <td>0.000000</td>\n",
       "      <td>20.000000</td>\n",
       "      <td>2.000000</td>\n",
       "      <td>3.000000</td>\n",
       "      <td>2.000000</td>\n",
       "      <td>2.000000</td>\n",
       "      <td>4.000000</td>\n",
       "      <td>2.000000</td>\n",
       "      <td>1.000000</td>\n",
       "      <td>0.020000</td>\n",
       "    </tr>\n",
       "    <tr>\n",
       "      <th>25%</th>\n",
       "      <td>1.000000</td>\n",
       "      <td>1.000000</td>\n",
       "      <td>2.000000</td>\n",
       "      <td>1.000000</td>\n",
       "      <td>1.000000</td>\n",
       "      <td>1.000000</td>\n",
       "      <td>1.000000</td>\n",
       "      <td>1.000000</td>\n",
       "      <td>60.000000</td>\n",
       "      <td>2.000000</td>\n",
       "      <td>...</td>\n",
       "      <td>2.000000</td>\n",
       "      <td>93.000000</td>\n",
       "      <td>9.000000</td>\n",
       "      <td>9.000000</td>\n",
       "      <td>10.000000</td>\n",
       "      <td>10.000000</td>\n",
       "      <td>9.000000</td>\n",
       "      <td>9.000000</td>\n",
       "      <td>1.000000</td>\n",
       "      <td>0.695000</td>\n",
       "    </tr>\n",
       "    <tr>\n",
       "      <th>50%</th>\n",
       "      <td>1.000000</td>\n",
       "      <td>1.000000</td>\n",
       "      <td>3.000000</td>\n",
       "      <td>1.000000</td>\n",
       "      <td>1.000000</td>\n",
       "      <td>1.000000</td>\n",
       "      <td>1.000000</td>\n",
       "      <td>2.000000</td>\n",
       "      <td>1125.000000</td>\n",
       "      <td>20.000000</td>\n",
       "      <td>...</td>\n",
       "      <td>9.000000</td>\n",
       "      <td>96.000000</td>\n",
       "      <td>10.000000</td>\n",
       "      <td>10.000000</td>\n",
       "      <td>10.000000</td>\n",
       "      <td>10.000000</td>\n",
       "      <td>10.000000</td>\n",
       "      <td>10.000000</td>\n",
       "      <td>1.000000</td>\n",
       "      <td>1.540000</td>\n",
       "    </tr>\n",
       "    <tr>\n",
       "      <th>75%</th>\n",
       "      <td>3.000000</td>\n",
       "      <td>3.000000</td>\n",
       "      <td>4.000000</td>\n",
       "      <td>1.000000</td>\n",
       "      <td>2.000000</td>\n",
       "      <td>2.000000</td>\n",
       "      <td>2.000000</td>\n",
       "      <td>2.000000</td>\n",
       "      <td>1125.000000</td>\n",
       "      <td>30.000000</td>\n",
       "      <td>...</td>\n",
       "      <td>26.000000</td>\n",
       "      <td>99.000000</td>\n",
       "      <td>10.000000</td>\n",
       "      <td>10.000000</td>\n",
       "      <td>10.000000</td>\n",
       "      <td>10.000000</td>\n",
       "      <td>10.000000</td>\n",
       "      <td>10.000000</td>\n",
       "      <td>2.000000</td>\n",
       "      <td>3.000000</td>\n",
       "    </tr>\n",
       "    <tr>\n",
       "      <th>max</th>\n",
       "      <td>502.000000</td>\n",
       "      <td>502.000000</td>\n",
       "      <td>16.000000</td>\n",
       "      <td>8.000000</td>\n",
       "      <td>7.000000</td>\n",
       "      <td>15.000000</td>\n",
       "      <td>15.000000</td>\n",
       "      <td>1000.000000</td>\n",
       "      <td>100000.000000</td>\n",
       "      <td>30.000000</td>\n",
       "      <td>...</td>\n",
       "      <td>474.000000</td>\n",
       "      <td>100.000000</td>\n",
       "      <td>10.000000</td>\n",
       "      <td>10.000000</td>\n",
       "      <td>10.000000</td>\n",
       "      <td>10.000000</td>\n",
       "      <td>10.000000</td>\n",
       "      <td>10.000000</td>\n",
       "      <td>37.000000</td>\n",
       "      <td>12.150000</td>\n",
       "    </tr>\n",
       "  </tbody>\n",
       "</table>\n",
       "<p>8 rows × 23 columns</p>\n",
       "</div>"
      ],
      "text/plain": [
       "       host_listings_count  host_total_listings_count  accommodates  \\\n",
       "count          3816.000000                3816.000000   3818.000000   \n",
       "mean              7.157757                   7.157757      3.349398   \n",
       "std              28.628149                  28.628149      1.977599   \n",
       "min               1.000000                   1.000000      1.000000   \n",
       "25%               1.000000                   1.000000      2.000000   \n",
       "50%               1.000000                   1.000000      3.000000   \n",
       "75%               3.000000                   3.000000      4.000000   \n",
       "max             502.000000                 502.000000     16.000000   \n",
       "\n",
       "         bathrooms     bedrooms         beds  guests_included  minimum_nights  \\\n",
       "count  3802.000000  3812.000000  3817.000000      3818.000000     3818.000000   \n",
       "mean      1.259469     1.307712     1.735394         1.672603        2.369303   \n",
       "std       0.590369     0.883395     1.139480         1.311040       16.305902   \n",
       "min       0.000000     0.000000     1.000000         0.000000        1.000000   \n",
       "25%       1.000000     1.000000     1.000000         1.000000        1.000000   \n",
       "50%       1.000000     1.000000     1.000000         1.000000        2.000000   \n",
       "75%       1.000000     2.000000     2.000000         2.000000        2.000000   \n",
       "max       8.000000     7.000000    15.000000        15.000000     1000.000000   \n",
       "\n",
       "       maximum_nights  availability_30        ...          number_of_reviews  \\\n",
       "count     3818.000000      3818.000000        ...                3818.000000   \n",
       "mean       780.447617        16.786276        ...                  22.223415   \n",
       "std       1683.589007        12.173637        ...                  37.730892   \n",
       "min          1.000000         0.000000        ...                   0.000000   \n",
       "25%         60.000000         2.000000        ...                   2.000000   \n",
       "50%       1125.000000        20.000000        ...                   9.000000   \n",
       "75%       1125.000000        30.000000        ...                  26.000000   \n",
       "max     100000.000000        30.000000        ...                 474.000000   \n",
       "\n",
       "       review_scores_rating  review_scores_accuracy  \\\n",
       "count           3171.000000             3160.000000   \n",
       "mean              94.539262                9.636392   \n",
       "std                6.606083                0.698031   \n",
       "min               20.000000                2.000000   \n",
       "25%               93.000000                9.000000   \n",
       "50%               96.000000               10.000000   \n",
       "75%               99.000000               10.000000   \n",
       "max              100.000000               10.000000   \n",
       "\n",
       "       review_scores_cleanliness  review_scores_checkin  \\\n",
       "count                3165.000000            3160.000000   \n",
       "mean                    9.556398               9.786709   \n",
       "std                     0.797274               0.595499   \n",
       "min                     3.000000               2.000000   \n",
       "25%                     9.000000              10.000000   \n",
       "50%                    10.000000              10.000000   \n",
       "75%                    10.000000              10.000000   \n",
       "max                    10.000000              10.000000   \n",
       "\n",
       "       review_scores_communication  review_scores_location  \\\n",
       "count                  3167.000000             3163.000000   \n",
       "mean                      9.809599                9.608916   \n",
       "std                       0.568211                0.629053   \n",
       "min                       2.000000                4.000000   \n",
       "25%                      10.000000                9.000000   \n",
       "50%                      10.000000               10.000000   \n",
       "75%                      10.000000               10.000000   \n",
       "max                      10.000000               10.000000   \n",
       "\n",
       "       review_scores_value  calculated_host_listings_count  reviews_per_month  \n",
       "count          3162.000000                     3818.000000        3191.000000  \n",
       "mean              9.452245                        2.946307           2.078919  \n",
       "std               0.750259                        5.893029           1.822348  \n",
       "min               2.000000                        1.000000           0.020000  \n",
       "25%               9.000000                        1.000000           0.695000  \n",
       "50%              10.000000                        1.000000           1.540000  \n",
       "75%              10.000000                        2.000000           3.000000  \n",
       "max              10.000000                       37.000000          12.150000  \n",
       "\n",
       "[8 rows x 23 columns]"
      ]
     },
     "execution_count": 203,
     "metadata": {},
     "output_type": "execute_result"
    }
   ],
   "source": [
    "#A look at data\n",
    "#A Look at the Quantitative variables\n",
    "df.describe()"
   ]
  },
  {
   "cell_type": "code",
   "execution_count": 204,
   "metadata": {},
   "outputs": [
    {
     "data": {
      "text/plain": [
       "Index(['host_listings_count', 'host_total_listings_count', 'accommodates',\n",
       "       'bathrooms', 'bedrooms', 'beds', 'guests_included', 'minimum_nights',\n",
       "       'maximum_nights', 'availability_30', 'availability_60',\n",
       "       'availability_90', 'availability_365', 'number_of_reviews',\n",
       "       'review_scores_rating', 'review_scores_accuracy',\n",
       "       'review_scores_cleanliness', 'review_scores_checkin',\n",
       "       'review_scores_communication', 'review_scores_location',\n",
       "       'review_scores_value', 'calculated_host_listings_count',\n",
       "       'reviews_per_month'],\n",
       "      dtype='object')"
      ]
     },
     "execution_count": 204,
     "metadata": {},
     "output_type": "execute_result"
    }
   ],
   "source": [
    "#A look at data\n",
    "##list of columns with Quantitative variables\n",
    "\n",
    "df.describe().columns"
   ]
  },
  {
   "cell_type": "code",
   "execution_count": 205,
   "metadata": {},
   "outputs": [
    {
     "data": {
      "text/plain": [
       "weekly_price                        1809\n",
       "cleaning_fee                        1030\n",
       "host_about                           859\n",
       "host_acceptance_rate                 773\n",
       "review_scores_checkin                658\n",
       "review_scores_accuracy               658\n",
       "review_scores_value                  656\n",
       "review_scores_location               655\n",
       "review_scores_cleanliness            653\n",
       "review_scores_communication          651\n",
       "review_scores_rating                 647\n",
       "last_review                          627\n",
       "first_review                         627\n",
       "reviews_per_month                    627\n",
       "host_response_time                   523\n",
       "host_response_rate                   523\n",
       "host_neighbourhood                   300\n",
       "bathrooms                             16\n",
       "host_location                          8\n",
       "bedrooms                               6\n",
       "host_since                             2\n",
       "host_total_listings_count              2\n",
       "host_identity_verified                 2\n",
       "host_has_profile_pic                   2\n",
       "host_listings_count                    2\n",
       "host_picture_url                       2\n",
       "host_is_superhost                      2\n",
       "property_type                          1\n",
       "beds                                   1\n",
       "host_verifications                     0\n",
       "neighbourhood_cleansed                 0\n",
       "neighbourhood_group_cleansed           0\n",
       "require_guest_profile_picture          0\n",
       "require_guest_phone_verification       0\n",
       "is_location_exact                      0\n",
       "instant_bookable                       0\n",
       "room_type                              0\n",
       "number_of_reviews                      0\n",
       "availability_365                       0\n",
       "availability_90                        0\n",
       "availability_60                        0\n",
       "availability_30                        0\n",
       "has_availability                       0\n",
       "calendar_updated                       0\n",
       "maximum_nights                         0\n",
       "minimum_nights                         0\n",
       "extra_people                           0\n",
       "guests_included                        0\n",
       "cancellation_policy                    0\n",
       "calculated_host_listings_count         0\n",
       "price                                  0\n",
       "amenities                              0\n",
       "bed_type                               0\n",
       "accommodates                           0\n",
       "dtype: int64"
      ]
     },
     "execution_count": 205,
     "metadata": {},
     "output_type": "execute_result"
    }
   ],
   "source": [
    "#A look at data\n",
    "#Columns with missing data in descending order\n",
    "np.sum(df.isnull()).sort_values(ascending = False)"
   ]
  },
  {
   "cell_type": "code",
   "execution_count": 206,
   "metadata": {},
   "outputs": [
    {
     "data": {
      "text/plain": [
       "<matplotlib.axes._subplots.AxesSubplot at 0x7f6d550305c0>"
      ]
     },
     "execution_count": 206,
     "metadata": {},
     "output_type": "execute_result"
    },
    {
     "data": {
      "image/png": "[encoded data removed]",
      "text/plain": [
       "<matplotlib.figure.Figure at 0x7f6d55030c88>"
      ]
     },
     "metadata": {
      "needs_background": "light"
     },
     "output_type": "display_data"
    }
   ],
   "source": [
    "#A look at data\n",
    "#Columns with missing data in descending order as a bar chart\n",
    "np.sum(df.isnull()).sort_values(ascending = False).plot(kind = 'bar')"
   ]
  },
  {
   "cell_type": "code",
   "execution_count": 207,
   "metadata": {},
   "outputs": [
    {
     "data": {
      "text/plain": [
       "((25,), Index(['host_verifications', 'neighbourhood_cleansed',\n",
       "        'neighbourhood_group_cleansed', 'is_location_exact', 'room_type',\n",
       "        'accommodates', 'bed_type', 'amenities', 'price', 'guests_included',\n",
       "        'extra_people', 'minimum_nights', 'maximum_nights', 'calendar_updated',\n",
       "        'has_availability', 'availability_30', 'availability_60',\n",
       "        'availability_90', 'availability_365', 'number_of_reviews',\n",
       "        'instant_bookable', 'cancellation_policy',\n",
       "        'require_guest_profile_picture', 'require_guest_phone_verification',\n",
       "        'calculated_host_listings_count'],\n",
       "       dtype='object'))"
      ]
     },
     "execution_count": 207,
     "metadata": {},
     "output_type": "execute_result"
    }
   ],
   "source": [
    "#Know your data\n",
    "#list columns with 0 missing values\n",
    "\n",
    "no_nulls = df.columns[df.isnull().sum()==0]\n",
    "no_nulls.shape, no_nulls"
   ]
  },
  {
   "cell_type": "code",
   "execution_count": 208,
   "metadata": {},
   "outputs": [
    {
     "data": {
      "text/plain": [
       "((29,),\n",
       " Index(['host_since', 'host_location', 'host_about', 'host_response_time',\n",
       "        'host_response_rate', 'host_acceptance_rate', 'host_is_superhost',\n",
       "        'host_picture_url', 'host_neighbourhood', 'host_listings_count',\n",
       "        'host_total_listings_count', 'host_has_profile_pic',\n",
       "        'host_identity_verified', 'property_type', 'bathrooms', 'bedrooms',\n",
       "        'beds', 'weekly_price', 'cleaning_fee', 'first_review', 'last_review',\n",
       "        'review_scores_rating', 'review_scores_accuracy',\n",
       "        'review_scores_cleanliness', 'review_scores_checkin',\n",
       "        'review_scores_communication', 'review_scores_location',\n",
       "        'review_scores_value', 'reviews_per_month'],\n",
       "       dtype='object'))"
      ]
     },
     "execution_count": 208,
     "metadata": {},
     "output_type": "execute_result"
    }
   ],
   "source": [
    "#Know your data\n",
    "#list columns with at least 1 missing value(s)\n",
    "\n",
    "with_nulls = df.columns[df.isnull().sum() > 0]\n",
    "with_nulls.shape, with_nulls"
   ]
  },
  {
   "cell_type": "code",
   "execution_count": 209,
   "metadata": {},
   "outputs": [
    {
     "name": "stderr",
     "output_type": "stream",
     "text": [
      "/opt/conda/lib/python3.6/site-packages/pandas/core/frame.py:3140: SettingWithCopyWarning: \n",
      "A value is trying to be set on a copy of a slice from a DataFrame.\n",
      "Try using .loc[row_indexer,col_indexer] = value instead\n",
      "\n",
      "See the caveats in the documentation: http://pandas.pydata.org/pandas-docs/stable/indexing.html#indexing-view-versus-copy\n",
      "  self[k1] = value[k2]\n",
      "/opt/conda/lib/python3.6/site-packages/ipykernel_launcher.py:9: SettingWithCopyWarning: \n",
      "A value is trying to be set on a copy of a slice from a DataFrame.\n",
      "Try using .loc[row_indexer,col_indexer] = value instead\n",
      "\n",
      "See the caveats in the documentation: http://pandas.pydata.org/pandas-docs/stable/indexing.html#indexing-view-versus-copy\n",
      "  if __name__ == '__main__':\n"
     ]
    },
    {
     "data": {
      "text/html": [
       "<div>\n",
       "<style scoped>\n",
       "    .dataframe tbody tr th:only-of-type {\n",
       "        vertical-align: middle;\n",
       "    }\n",
       "\n",
       "    .dataframe tbody tr th {\n",
       "        vertical-align: top;\n",
       "    }\n",
       "\n",
       "    .dataframe thead th {\n",
       "        text-align: right;\n",
       "    }\n",
       "</style>\n",
       "<table border=\"1\" class=\"dataframe\">\n",
       "  <thead>\n",
       "    <tr style=\"text-align: right;\">\n",
       "      <th></th>\n",
       "      <th>amenities_1</th>\n",
       "      <th>amenities_2</th>\n",
       "      <th>amenities_3</th>\n",
       "      <th>amenities_4</th>\n",
       "      <th>amenities_5</th>\n",
       "      <th>amenities_6</th>\n",
       "      <th>amenities_7</th>\n",
       "      <th>amenities_8</th>\n",
       "      <th>amenities_9</th>\n",
       "      <th>amenities_10</th>\n",
       "      <th>...</th>\n",
       "      <th>amenities_22</th>\n",
       "      <th>amenities_23</th>\n",
       "      <th>amenities_24</th>\n",
       "      <th>amenities_25</th>\n",
       "      <th>amenities_26</th>\n",
       "      <th>amenties_27</th>\n",
       "      <th>amenties_28</th>\n",
       "      <th>amenties_29</th>\n",
       "      <th>amenities_30</th>\n",
       "      <th>amenities_total</th>\n",
       "    </tr>\n",
       "  </thead>\n",
       "  <tbody>\n",
       "    <tr>\n",
       "      <th>0</th>\n",
       "      <td>{TV</td>\n",
       "      <td>\"Cable TV\"</td>\n",
       "      <td>Internet</td>\n",
       "      <td>\"Wireless Internet\"</td>\n",
       "      <td>\"Air Conditioning\"</td>\n",
       "      <td>Kitchen</td>\n",
       "      <td>Heating</td>\n",
       "      <td>\"Family/Kid Friendly\"</td>\n",
       "      <td>Washer</td>\n",
       "      <td>Dryer}</td>\n",
       "      <td>...</td>\n",
       "      <td>None</td>\n",
       "      <td>None</td>\n",
       "      <td>None</td>\n",
       "      <td>None</td>\n",
       "      <td>None</td>\n",
       "      <td>None</td>\n",
       "      <td>None</td>\n",
       "      <td>None</td>\n",
       "      <td>None</td>\n",
       "      <td>10</td>\n",
       "    </tr>\n",
       "    <tr>\n",
       "      <th>1</th>\n",
       "      <td>{TV</td>\n",
       "      <td>Internet</td>\n",
       "      <td>\"Wireless Internet\"</td>\n",
       "      <td>Kitchen</td>\n",
       "      <td>\"Free Parking on Premises\"</td>\n",
       "      <td>\"Buzzer/Wireless Intercom\"</td>\n",
       "      <td>Heating</td>\n",
       "      <td>\"Family/Kid Friendly\"</td>\n",
       "      <td>Washer</td>\n",
       "      <td>Dryer</td>\n",
       "      <td>...</td>\n",
       "      <td>None</td>\n",
       "      <td>None</td>\n",
       "      <td>None</td>\n",
       "      <td>None</td>\n",
       "      <td>None</td>\n",
       "      <td>None</td>\n",
       "      <td>None</td>\n",
       "      <td>None</td>\n",
       "      <td>None</td>\n",
       "      <td>16</td>\n",
       "    </tr>\n",
       "    <tr>\n",
       "      <th>2</th>\n",
       "      <td>{TV</td>\n",
       "      <td>\"Cable TV\"</td>\n",
       "      <td>Internet</td>\n",
       "      <td>\"Wireless Internet\"</td>\n",
       "      <td>\"Air Conditioning\"</td>\n",
       "      <td>Kitchen</td>\n",
       "      <td>\"Free Parking on Premises\"</td>\n",
       "      <td>\"Pets Allowed\"</td>\n",
       "      <td>\"Pets live on this property\"</td>\n",
       "      <td>Dog(s)</td>\n",
       "      <td>...</td>\n",
       "      <td>None</td>\n",
       "      <td>None</td>\n",
       "      <td>None</td>\n",
       "      <td>None</td>\n",
       "      <td>None</td>\n",
       "      <td>None</td>\n",
       "      <td>None</td>\n",
       "      <td>None</td>\n",
       "      <td>None</td>\n",
       "      <td>21</td>\n",
       "    </tr>\n",
       "    <tr>\n",
       "      <th>3</th>\n",
       "      <td>{Internet</td>\n",
       "      <td>\"Wireless Internet\"</td>\n",
       "      <td>Kitchen</td>\n",
       "      <td>\"Indoor Fireplace\"</td>\n",
       "      <td>Heating</td>\n",
       "      <td>\"Family/Kid Friendly\"</td>\n",
       "      <td>Washer</td>\n",
       "      <td>Dryer</td>\n",
       "      <td>\"Smoke Detector\"</td>\n",
       "      <td>\"Carbon Monoxide Detector\"</td>\n",
       "      <td>...</td>\n",
       "      <td>None</td>\n",
       "      <td>None</td>\n",
       "      <td>None</td>\n",
       "      <td>None</td>\n",
       "      <td>None</td>\n",
       "      <td>None</td>\n",
       "      <td>None</td>\n",
       "      <td>None</td>\n",
       "      <td>None</td>\n",
       "      <td>14</td>\n",
       "    </tr>\n",
       "    <tr>\n",
       "      <th>4</th>\n",
       "      <td>{TV</td>\n",
       "      <td>\"Cable TV\"</td>\n",
       "      <td>Internet</td>\n",
       "      <td>\"Wireless Internet\"</td>\n",
       "      <td>Kitchen</td>\n",
       "      <td>Heating</td>\n",
       "      <td>\"Family/Kid Friendly\"</td>\n",
       "      <td>\"Smoke Detector\"</td>\n",
       "      <td>\"Carbon Monoxide Detector\"</td>\n",
       "      <td>\"First Aid Kit\"</td>\n",
       "      <td>...</td>\n",
       "      <td>None</td>\n",
       "      <td>None</td>\n",
       "      <td>None</td>\n",
       "      <td>None</td>\n",
       "      <td>None</td>\n",
       "      <td>None</td>\n",
       "      <td>None</td>\n",
       "      <td>None</td>\n",
       "      <td>None</td>\n",
       "      <td>13</td>\n",
       "    </tr>\n",
       "  </tbody>\n",
       "</table>\n",
       "<p>5 rows × 31 columns</p>\n",
       "</div>"
      ],
      "text/plain": [
       "  amenities_1          amenities_2          amenities_3          amenities_4  \\\n",
       "0         {TV           \"Cable TV\"             Internet  \"Wireless Internet\"   \n",
       "1         {TV             Internet  \"Wireless Internet\"              Kitchen   \n",
       "2         {TV           \"Cable TV\"             Internet  \"Wireless Internet\"   \n",
       "3   {Internet  \"Wireless Internet\"              Kitchen   \"Indoor Fireplace\"   \n",
       "4         {TV           \"Cable TV\"             Internet  \"Wireless Internet\"   \n",
       "\n",
       "                  amenities_5                 amenities_6  \\\n",
       "0          \"Air Conditioning\"                     Kitchen   \n",
       "1  \"Free Parking on Premises\"  \"Buzzer/Wireless Intercom\"   \n",
       "2          \"Air Conditioning\"                     Kitchen   \n",
       "3                     Heating       \"Family/Kid Friendly\"   \n",
       "4                     Kitchen                     Heating   \n",
       "\n",
       "                  amenities_7            amenities_8  \\\n",
       "0                     Heating  \"Family/Kid Friendly\"   \n",
       "1                     Heating  \"Family/Kid Friendly\"   \n",
       "2  \"Free Parking on Premises\"         \"Pets Allowed\"   \n",
       "3                      Washer                  Dryer   \n",
       "4       \"Family/Kid Friendly\"       \"Smoke Detector\"   \n",
       "\n",
       "                    amenities_9                amenities_10       ...        \\\n",
       "0                        Washer                      Dryer}       ...         \n",
       "1                        Washer                       Dryer       ...         \n",
       "2  \"Pets live on this property\"                      Dog(s)       ...         \n",
       "3              \"Smoke Detector\"  \"Carbon Monoxide Detector\"       ...         \n",
       "4    \"Carbon Monoxide Detector\"             \"First Aid Kit\"       ...         \n",
       "\n",
       "  amenities_22 amenities_23 amenities_24 amenities_25 amenities_26  \\\n",
       "0         None         None         None         None         None   \n",
       "1         None         None         None         None         None   \n",
       "2         None         None         None         None         None   \n",
       "3         None         None         None         None         None   \n",
       "4         None         None         None         None         None   \n",
       "\n",
       "  amenties_27 amenties_28 amenties_29 amenities_30 amenities_total  \n",
       "0        None        None        None         None              10  \n",
       "1        None        None        None         None              16  \n",
       "2        None        None        None         None              21  \n",
       "3        None        None        None         None              14  \n",
       "4        None        None        None         None              13  \n",
       "\n",
       "[5 rows x 31 columns]"
      ]
     },
     "execution_count": 209,
     "metadata": {},
     "output_type": "execute_result"
    }
   ],
   "source": [
    "#FOR QUESTION 1\n",
    "#Split list of amenities for each listing, and\n",
    "#Calculate total number of amenities for each listing\n",
    "#Add a column for the total number of amenities\n",
    "\n",
    "df[['amenities_1', 'amenities_2','amenities_3','amenities_4','amenities_5','amenities_6','amenities_7','amenities_8','amenities_9','amenities_10','amenities_11','amenities_12','amenities_13','amenities_14','amenities_15','amenities_16','amenities_17','amenities_18','amenities_19','amenities_20','amenities_21','amenities_22','amenities_23','amenities_24','amenities_25','amenities_26','amenties_27','amenties_28','amenties_29', 'amenities_30']] = df['amenities'].str.split(',', expand=True)\n",
    "\n",
    "x =df[['amenities_1', 'amenities_2','amenities_3','amenities_4','amenities_5','amenities_6','amenities_7','amenities_8','amenities_9','amenities_10','amenities_11','amenities_12','amenities_13','amenities_14','amenities_15','amenities_16','amenities_17','amenities_18','amenities_19','amenities_20','amenities_21','amenities_22','amenities_23','amenities_24','amenities_25','amenities_26','amenties_27','amenties_28','amenties_29', 'amenities_30']]\n",
    "df['amenities_total'] = x.count(axis = 1) \n",
    "df[['amenities_1', 'amenities_2','amenities_3','amenities_4','amenities_5','amenities_6','amenities_7','amenities_8','amenities_9','amenities_10','amenities_11','amenities_12','amenities_13','amenities_14','amenities_15','amenities_16','amenities_17','amenities_18','amenities_19','amenities_20','amenities_21','amenities_22','amenities_23','amenities_24','amenities_25','amenities_26','amenties_27','amenties_28','amenties_29', 'amenities_30', 'amenities_total']].head()\n"
   ]
  },
  {
   "cell_type": "code",
   "execution_count": 210,
   "metadata": {},
   "outputs": [
    {
     "data": {
      "text/plain": [
       "0"
      ]
     },
     "execution_count": 210,
     "metadata": {},
     "output_type": "execute_result"
    }
   ],
   "source": [
    "#FOR QUESTION 1\n",
    "#Confirming that there are no null values on the 'amenities_total' column\n",
    "df.amenities_total.isna().sum()"
   ]
  },
  {
   "cell_type": "code",
   "execution_count": 211,
   "metadata": {
    "scrolled": true
   },
   "outputs": [
    {
     "data": {
      "text/html": [
       "<div>\n",
       "<style scoped>\n",
       "    .dataframe tbody tr th:only-of-type {\n",
       "        vertical-align: middle;\n",
       "    }\n",
       "\n",
       "    .dataframe tbody tr th {\n",
       "        vertical-align: top;\n",
       "    }\n",
       "\n",
       "    .dataframe thead th {\n",
       "        text-align: right;\n",
       "    }\n",
       "</style>\n",
       "<table border=\"1\" class=\"dataframe\">\n",
       "  <thead>\n",
       "    <tr style=\"text-align: right;\">\n",
       "      <th></th>\n",
       "      <th>host_since</th>\n",
       "      <th>host_location</th>\n",
       "      <th>host_about</th>\n",
       "      <th>host_response_time</th>\n",
       "      <th>host_response_rate</th>\n",
       "      <th>host_acceptance_rate</th>\n",
       "      <th>host_is_superhost</th>\n",
       "      <th>host_picture_url</th>\n",
       "      <th>host_neighbourhood</th>\n",
       "      <th>host_listings_count</th>\n",
       "      <th>...</th>\n",
       "      <th>review_scores_communication</th>\n",
       "      <th>review_scores_location</th>\n",
       "      <th>review_scores_value</th>\n",
       "      <th>instant_bookable</th>\n",
       "      <th>cancellation_policy</th>\n",
       "      <th>require_guest_profile_picture</th>\n",
       "      <th>require_guest_phone_verification</th>\n",
       "      <th>calculated_host_listings_count</th>\n",
       "      <th>reviews_per_month</th>\n",
       "      <th>amenities_total</th>\n",
       "    </tr>\n",
       "  </thead>\n",
       "  <tbody>\n",
       "    <tr>\n",
       "      <th>0</th>\n",
       "      <td>2011-08-11</td>\n",
       "      <td>Seattle, Washington, United States</td>\n",
       "      <td>I am an artist, interior designer, and run a s...</td>\n",
       "      <td>within a few hours</td>\n",
       "      <td>96%</td>\n",
       "      <td>100%</td>\n",
       "      <td>f</td>\n",
       "      <td>https://a0.muscache.com/ac/users/956883/profil...</td>\n",
       "      <td>Queen Anne</td>\n",
       "      <td>3.0</td>\n",
       "      <td>...</td>\n",
       "      <td>10.0</td>\n",
       "      <td>9.0</td>\n",
       "      <td>10.0</td>\n",
       "      <td>f</td>\n",
       "      <td>moderate</td>\n",
       "      <td>f</td>\n",
       "      <td>f</td>\n",
       "      <td>2</td>\n",
       "      <td>4.07</td>\n",
       "      <td>10</td>\n",
       "    </tr>\n",
       "    <tr>\n",
       "      <th>1</th>\n",
       "      <td>2013-02-21</td>\n",
       "      <td>Seattle, Washington, United States</td>\n",
       "      <td>Living east coast/left coast/overseas.  Time i...</td>\n",
       "      <td>within an hour</td>\n",
       "      <td>98%</td>\n",
       "      <td>100%</td>\n",
       "      <td>t</td>\n",
       "      <td>https://a0.muscache.com/ac/users/5177328/profi...</td>\n",
       "      <td>Queen Anne</td>\n",
       "      <td>6.0</td>\n",
       "      <td>...</td>\n",
       "      <td>10.0</td>\n",
       "      <td>10.0</td>\n",
       "      <td>10.0</td>\n",
       "      <td>f</td>\n",
       "      <td>strict</td>\n",
       "      <td>t</td>\n",
       "      <td>t</td>\n",
       "      <td>6</td>\n",
       "      <td>1.48</td>\n",
       "      <td>16</td>\n",
       "    </tr>\n",
       "  </tbody>\n",
       "</table>\n",
       "<p>2 rows × 54 columns</p>\n",
       "</div>"
      ],
      "text/plain": [
       "   host_since                       host_location  \\\n",
       "0  2011-08-11  Seattle, Washington, United States   \n",
       "1  2013-02-21  Seattle, Washington, United States   \n",
       "\n",
       "                                          host_about  host_response_time  \\\n",
       "0  I am an artist, interior designer, and run a s...  within a few hours   \n",
       "1  Living east coast/left coast/overseas.  Time i...      within an hour   \n",
       "\n",
       "  host_response_rate host_acceptance_rate host_is_superhost  \\\n",
       "0                96%                 100%                 f   \n",
       "1                98%                 100%                 t   \n",
       "\n",
       "                                    host_picture_url host_neighbourhood  \\\n",
       "0  https://a0.muscache.com/ac/users/956883/profil...         Queen Anne   \n",
       "1  https://a0.muscache.com/ac/users/5177328/profi...         Queen Anne   \n",
       "\n",
       "   host_listings_count       ...         review_scores_communication  \\\n",
       "0                  3.0       ...                                10.0   \n",
       "1                  6.0       ...                                10.0   \n",
       "\n",
       "  review_scores_location review_scores_value instant_bookable  \\\n",
       "0                    9.0                10.0                f   \n",
       "1                   10.0                10.0                f   \n",
       "\n",
       "  cancellation_policy require_guest_profile_picture  \\\n",
       "0            moderate                             f   \n",
       "1              strict                             t   \n",
       "\n",
       "  require_guest_phone_verification calculated_host_listings_count  \\\n",
       "0                                f                              2   \n",
       "1                                t                              6   \n",
       "\n",
       "  reviews_per_month  amenities_total  \n",
       "0              4.07               10  \n",
       "1              1.48               16  \n",
       "\n",
       "[2 rows x 54 columns]"
      ]
     },
     "execution_count": 211,
     "metadata": {},
     "output_type": "execute_result"
    }
   ],
   "source": [
    "#FOR QUESTION 1\n",
    "#I will now be working with just the number of ameninities_total column so I will drop the amenities column and amenities_1 to amenities_30\n",
    "\n",
    "df_a = df.drop(['amenities_1', 'amenities_2','amenities_3','amenities_4','amenities_5','amenities_6','amenities_7','amenities_8','amenities_9','amenities_10','amenities_11','amenities_12','amenities_13','amenities_14','amenities_15','amenities_16','amenities_17','amenities_18','amenities_19','amenities_20','amenities_21','amenities_22','amenities_23','amenities_24','amenities_25','amenities_26','amenties_27','amenties_28','amenties_29', 'amenities_30', 'amenities'], axis = 1)\n",
    "df_a.head(2)\n"
   ]
  },
  {
   "cell_type": "code",
   "execution_count": 212,
   "metadata": {},
   "outputs": [
    {
     "data": {
      "text/plain": [
       "t    3818\n",
       "Name: has_availability, dtype: int64"
      ]
     },
     "execution_count": 212,
     "metadata": {},
     "output_type": "execute_result"
    }
   ],
   "source": [
    "#FOR QUESTION 1\n",
    "#Confirming that all listings have availability set to true\n",
    "#Note - 'has_availability', 'availability_30', 'availability_60','availability_90', 'availability_365' ALL do not have nulls so we can use these columns without any data wrangling required\n",
    "df_a.has_availability.sort_values().value_counts()"
   ]
  },
  {
   "cell_type": "code",
   "execution_count": 213,
   "metadata": {},
   "outputs": [
    {
     "data": {
      "text/html": [
       "<div>\n",
       "<style scoped>\n",
       "    .dataframe tbody tr th:only-of-type {\n",
       "        vertical-align: middle;\n",
       "    }\n",
       "\n",
       "    .dataframe tbody tr th {\n",
       "        vertical-align: top;\n",
       "    }\n",
       "\n",
       "    .dataframe thead th {\n",
       "        text-align: right;\n",
       "    }\n",
       "</style>\n",
       "<table border=\"1\" class=\"dataframe\">\n",
       "  <thead>\n",
       "    <tr style=\"text-align: right;\">\n",
       "      <th></th>\n",
       "      <th>amenities_total</th>\n",
       "      <th>beds</th>\n",
       "      <th>availability_30</th>\n",
       "      <th>availability_60</th>\n",
       "      <th>availability_90</th>\n",
       "      <th>availability_365</th>\n",
       "    </tr>\n",
       "  </thead>\n",
       "  <tbody>\n",
       "    <tr>\n",
       "      <th>0</th>\n",
       "      <td>10</td>\n",
       "      <td>1.0</td>\n",
       "      <td>14</td>\n",
       "      <td>41</td>\n",
       "      <td>71</td>\n",
       "      <td>346</td>\n",
       "    </tr>\n",
       "    <tr>\n",
       "      <th>1</th>\n",
       "      <td>16</td>\n",
       "      <td>1.0</td>\n",
       "      <td>13</td>\n",
       "      <td>13</td>\n",
       "      <td>16</td>\n",
       "      <td>291</td>\n",
       "    </tr>\n",
       "    <tr>\n",
       "      <th>5</th>\n",
       "      <td>6</td>\n",
       "      <td>1.0</td>\n",
       "      <td>0</td>\n",
       "      <td>0</td>\n",
       "      <td>27</td>\n",
       "      <td>302</td>\n",
       "    </tr>\n",
       "    <tr>\n",
       "      <th>6</th>\n",
       "      <td>7</td>\n",
       "      <td>1.0</td>\n",
       "      <td>20</td>\n",
       "      <td>49</td>\n",
       "      <td>71</td>\n",
       "      <td>346</td>\n",
       "    </tr>\n",
       "    <tr>\n",
       "      <th>7</th>\n",
       "      <td>7</td>\n",
       "      <td>1.0</td>\n",
       "      <td>22</td>\n",
       "      <td>42</td>\n",
       "      <td>42</td>\n",
       "      <td>100</td>\n",
       "    </tr>\n",
       "  </tbody>\n",
       "</table>\n",
       "</div>"
      ],
      "text/plain": [
       "   amenities_total  beds  availability_30  availability_60  availability_90  \\\n",
       "0               10   1.0               14               41               71   \n",
       "1               16   1.0               13               13               16   \n",
       "5                6   1.0                0                0               27   \n",
       "6                7   1.0               20               49               71   \n",
       "7                7   1.0               22               42               42   \n",
       "\n",
       "   availability_365  \n",
       "0               346  \n",
       "1               291  \n",
       "5               302  \n",
       "6               346  \n",
       "7               100  "
      ]
     },
     "execution_count": 213,
     "metadata": {},
     "output_type": "execute_result"
    }
   ],
   "source": [
    "#FOR QUESTION 1\n",
    "#Subsetting the dataframe for question 1 as df_q1\n",
    "#Subsetting data for where number of bedrooms = 1\n",
    "df_q1 = df_a[['amenities_total','beds','availability_30', 'availability_60','availability_90', 'availability_365']]\n",
    "df_q1 = df_q1[df_q1['beds'] == 1]\n",
    "df_q1.head()"
   ]
  },
  {
   "cell_type": "code",
   "execution_count": 247,
   "metadata": {},
   "outputs": [
    {
     "data": {
      "text/plain": [
       "Text(0.5,1,'Availability by number of amenities for 1-bed properties')"
      ]
     },
     "execution_count": 247,
     "metadata": {},
     "output_type": "execute_result"
    },
    {
     "data": {
      "image/png": "[encoded data removed]",
      "text/plain": [
       "<matplotlib.figure.Figure at 0x7f6d546da358>"
      ]
     },
     "metadata": {
      "needs_background": "light"
     },
     "output_type": "display_data"
    }
   ],
   "source": [
    "#FOR QUESTION 1\n",
    "#Plotting a line graph for the mean availability_30, availability_60, availability_90 and availability_365 against the amenities_total values\n",
    "df_q1.groupby(['amenities_total']).mean()[['availability_30', 'availability_60','availability_90', 'availability_365']].plot()\n",
    "plt.ylabel(\"No. of availability days over 30/60/90/365 period\")\n",
    "plt.xlabel(\"No. of amenities\")\n",
    "plt.title (\"Availability by number of amenities for 1-bed properties\")"
   ]
  },
  {
   "cell_type": "code",
   "execution_count": 257,
   "metadata": {
    "scrolled": false
   },
   "outputs": [
    {
     "data": {
      "text/plain": [
       "Text(0.5,14.0938,'Heatmap between amenities total and availability')"
      ]
     },
     "execution_count": 257,
     "metadata": {},
     "output_type": "execute_result"
    },
    {
     "data": {
      "image/png": "[encoded data removed]",
      "text/plain": [
       "<matplotlib.figure.Figure at 0x7f6d54544128>"
      ]
     },
     "metadata": {
      "needs_background": "light"
     },
     "output_type": "display_data"
    }
   ],
   "source": [
    "#FOR QUESTION 1\n",
    "#Confirming correlation of amenities_total with the various availabilities\n",
    "\n",
    "sns.heatmap(df_q1.corr(), annot=True, fmt=\".2f\");\n",
    "\n",
    "plt.xlabel(\"Heatmap between amenities total and availability\")\n"
   ]
  },
  {
   "cell_type": "markdown",
   "metadata": {},
   "source": [
    "#### Line break for question 2\n",
    "Do hosts categorised as **superhosts** generally receive higher review scores than hosts that are not superhosts?"
   ]
  },
  {
   "cell_type": "code",
   "execution_count": 216,
   "metadata": {},
   "outputs": [
    {
     "data": {
      "text/plain": [
       "(3818, 8)"
      ]
     },
     "execution_count": 216,
     "metadata": {},
     "output_type": "execute_result"
    }
   ],
   "source": [
    "#Question 2\n",
    "#Subsetting only the columns that I need to answer this question\n",
    "df_b = df[['host_is_superhost','review_scores_rating', 'review_scores_accuracy', 'review_scores_cleanliness', 'review_scores_checkin', 'review_scores_communication', 'review_scores_location','review_scores_value']]\n",
    "df_b.shape"
   ]
  },
  {
   "cell_type": "code",
   "execution_count": 217,
   "metadata": {},
   "outputs": [
    {
     "data": {
      "text/plain": [
       "f    3038\n",
       "t     778\n",
       "Name: host_is_superhost, dtype: int64"
      ]
     },
     "execution_count": 217,
     "metadata": {},
     "output_type": "execute_result"
    }
   ],
   "source": [
    "#Question 2\n",
    "#Counting host_is_superhost '= True' versus  '= False' values\n",
    "df_b.host_is_superhost.value_counts()"
   ]
  },
  {
   "cell_type": "code",
   "execution_count": 218,
   "metadata": {},
   "outputs": [
    {
     "data": {
      "text/plain": [
       "2"
      ]
     },
     "execution_count": 218,
     "metadata": {},
     "output_type": "execute_result"
    }
   ],
   "source": [
    "#Question 2\n",
    "#Subsetting where 'host_is_superhost is NaN'\n",
    "df_b.host_is_superhost.isna().sum()"
   ]
  },
  {
   "cell_type": "code",
   "execution_count": 219,
   "metadata": {},
   "outputs": [
    {
     "data": {
      "text/plain": [
       "(3816, 8)"
      ]
     },
     "execution_count": 219,
     "metadata": {},
     "output_type": "execute_result"
    }
   ],
   "source": [
    "#Question 2\n",
    "#Drop rows where 'host_is_superhost' is NaN\n",
    "df_c = df_b.dropna(subset = ['host_is_superhost'], axis = 0)\n",
    "df_c.shape"
   ]
  },
  {
   "cell_type": "code",
   "execution_count": 220,
   "metadata": {},
   "outputs": [
    {
     "data": {
      "text/plain": [
       "(645, 8)"
      ]
     },
     "execution_count": 220,
     "metadata": {},
     "output_type": "execute_result"
    }
   ],
   "source": [
    "#Question 2\n",
    "#Chech rows where there wasn't any review score entered i.e. all review_scores columns are NaN\n",
    "df_c[(df_c['review_scores_rating'].isna()) & (df_c['review_scores_accuracy'].isna()) & (df_c['review_scores_cleanliness'].isna()) & (df_c['review_scores_checkin'].isna())& (df_c['review_scores_communication'].isna())& (df_c['review_scores_location'].isna())& (df_c['review_scores_value'].isna())].shape\n"
   ]
  },
  {
   "cell_type": "code",
   "execution_count": 221,
   "metadata": {},
   "outputs": [
    {
     "data": {
      "text/html": [
       "<div>\n",
       "<style scoped>\n",
       "    .dataframe tbody tr th:only-of-type {\n",
       "        vertical-align: middle;\n",
       "    }\n",
       "\n",
       "    .dataframe tbody tr th {\n",
       "        vertical-align: top;\n",
       "    }\n",
       "\n",
       "    .dataframe thead th {\n",
       "        text-align: right;\n",
       "    }\n",
       "</style>\n",
       "<table border=\"1\" class=\"dataframe\">\n",
       "  <thead>\n",
       "    <tr style=\"text-align: right;\">\n",
       "      <th></th>\n",
       "      <th>host_is_superhost</th>\n",
       "      <th>review_scores_rating</th>\n",
       "      <th>review_scores_accuracy</th>\n",
       "      <th>review_scores_cleanliness</th>\n",
       "      <th>review_scores_checkin</th>\n",
       "      <th>review_scores_communication</th>\n",
       "      <th>review_scores_location</th>\n",
       "      <th>review_scores_value</th>\n",
       "    </tr>\n",
       "  </thead>\n",
       "  <tbody>\n",
       "    <tr>\n",
       "      <th>0</th>\n",
       "      <td>f</td>\n",
       "      <td>95.0</td>\n",
       "      <td>10.0</td>\n",
       "      <td>10.0</td>\n",
       "      <td>10.0</td>\n",
       "      <td>10.0</td>\n",
       "      <td>9.0</td>\n",
       "      <td>10.0</td>\n",
       "    </tr>\n",
       "    <tr>\n",
       "      <th>1</th>\n",
       "      <td>t</td>\n",
       "      <td>96.0</td>\n",
       "      <td>10.0</td>\n",
       "      <td>10.0</td>\n",
       "      <td>10.0</td>\n",
       "      <td>10.0</td>\n",
       "      <td>10.0</td>\n",
       "      <td>10.0</td>\n",
       "    </tr>\n",
       "  </tbody>\n",
       "</table>\n",
       "</div>"
      ],
      "text/plain": [
       "  host_is_superhost  review_scores_rating  review_scores_accuracy  \\\n",
       "0                 f                  95.0                    10.0   \n",
       "1                 t                  96.0                    10.0   \n",
       "\n",
       "   review_scores_cleanliness  review_scores_checkin  \\\n",
       "0                       10.0                   10.0   \n",
       "1                       10.0                   10.0   \n",
       "\n",
       "   review_scores_communication  review_scores_location  review_scores_value  \n",
       "0                         10.0                     9.0                 10.0  \n",
       "1                         10.0                    10.0                 10.0  "
      ]
     },
     "execution_count": 221,
     "metadata": {},
     "output_type": "execute_result"
    }
   ],
   "source": [
    "#Question 2\n",
    "#Drop rows where there wasn't any review score entered i.e. all review_scores columns are NaN\n",
    "\n",
    "df_d = df_c.dropna(subset = ['review_scores_rating', 'review_scores_accuracy', 'review_scores_cleanliness', 'review_scores_checkin', 'review_scores_communication', 'review_scores_location','review_scores_value'], how = 'all')\n",
    "df_d.head(2)"
   ]
  },
  {
   "cell_type": "code",
   "execution_count": 222,
   "metadata": {
    "scrolled": true
   },
   "outputs": [
    {
     "data": {
      "text/plain": [
       "review_scores_checkin          11\n",
       "review_scores_accuracy         11\n",
       "review_scores_value             9\n",
       "review_scores_location          8\n",
       "review_scores_cleanliness       6\n",
       "review_scores_communication     4\n",
       "review_scores_rating            0\n",
       "host_is_superhost               0\n",
       "dtype: int64"
      ]
     },
     "execution_count": 222,
     "metadata": {},
     "output_type": "execute_result"
    }
   ],
   "source": [
    "#Question 2\n",
    "#Columns with missing data in descending order\n",
    "np.sum(df_d.isnull()).sort_values(ascending = False)"
   ]
  },
  {
   "cell_type": "code",
   "execution_count": 223,
   "metadata": {
    "scrolled": true
   },
   "outputs": [
    {
     "name": "stderr",
     "output_type": "stream",
     "text": [
      "/opt/conda/lib/python3.6/site-packages/pandas/core/generic.py:5434: SettingWithCopyWarning: \n",
      "A value is trying to be set on a copy of a slice from a DataFrame\n",
      "\n",
      "See the caveats in the documentation: http://pandas.pydata.org/pandas-docs/stable/indexing.html#indexing-view-versus-copy\n",
      "  self._update_inplace(new_data)\n"
     ]
    },
    {
     "data": {
      "text/plain": [
       "host_is_superhost              0\n",
       "review_scores_rating           0\n",
       "review_scores_accuracy         0\n",
       "review_scores_cleanliness      0\n",
       "review_scores_checkin          0\n",
       "review_scores_communication    0\n",
       "review_scores_location         0\n",
       "review_scores_value            0\n",
       "dtype: int64"
      ]
     },
     "execution_count": 223,
     "metadata": {},
     "output_type": "execute_result"
    }
   ],
   "source": [
    "#Question 2\n",
    "#Fill missing data with the mean of that column\n",
    "df_d.fillna(df_d[['review_scores_rating', 'review_scores_accuracy', 'review_scores_cleanliness', 'review_scores_checkin', 'review_scores_communication', 'review_scores_location','review_scores_value']].mean(), inplace = True)\n",
    "df_d.isna().sum()"
   ]
  },
  {
   "cell_type": "code",
   "execution_count": 224,
   "metadata": {},
   "outputs": [],
   "source": [
    "#Question 2\n",
    "#Split into two data sets based on whether host_is_superhost is true or not\n",
    "df_1 = df_d[df_d['host_is_superhost'] == 't'] # Subset df to only those with HigherEd of 1\n",
    "df_0 = df_d[df_d['host_is_superhost'] == 'f'] # Subset df to only those with HigherEd of 0"
   ]
  },
  {
   "cell_type": "code",
   "execution_count": 225,
   "metadata": {},
   "outputs": [
    {
     "name": "stdout",
     "output_type": "stream",
     "text": [
      "1    t\n",
      "6    t\n",
      "Name: host_is_superhost, dtype: object\n",
      "0    f\n",
      "2    f\n",
      "Name: host_is_superhost, dtype: object\n"
     ]
    }
   ],
   "source": [
    "#Question 2\n",
    " #Assure it looks like what you would expect\n",
    "print(df_1['host_is_superhost'][:2])\n",
    "print(df_0['host_is_superhost'][:2])"
   ]
  },
  {
   "cell_type": "code",
   "execution_count": 226,
   "metadata": {},
   "outputs": [
    {
     "name": "stderr",
     "output_type": "stream",
     "text": [
      "/opt/conda/lib/python3.6/site-packages/ipykernel_launcher.py:3: SettingWithCopyWarning: \n",
      "A value is trying to be set on a copy of a slice from a DataFrame\n",
      "\n",
      "See the caveats in the documentation: http://pandas.pydata.org/pandas-docs/stable/indexing.html#indexing-view-versus-copy\n",
      "  This is separate from the ipykernel package so we can avoid doing imports until\n"
     ]
    },
    {
     "data": {
      "text/html": [
       "<div>\n",
       "<style scoped>\n",
       "    .dataframe tbody tr th:only-of-type {\n",
       "        vertical-align: middle;\n",
       "    }\n",
       "\n",
       "    .dataframe tbody tr th {\n",
       "        vertical-align: top;\n",
       "    }\n",
       "\n",
       "    .dataframe thead th {\n",
       "        text-align: right;\n",
       "    }\n",
       "</style>\n",
       "<table border=\"1\" class=\"dataframe\">\n",
       "  <thead>\n",
       "    <tr style=\"text-align: right;\">\n",
       "      <th></th>\n",
       "      <th>host_is_superhost</th>\n",
       "      <th>review_scores_rating</th>\n",
       "      <th>review_scores_accuracy</th>\n",
       "      <th>review_scores_cleanliness</th>\n",
       "      <th>review_scores_checkin</th>\n",
       "      <th>review_scores_communication</th>\n",
       "      <th>review_scores_location</th>\n",
       "      <th>review_scores_value</th>\n",
       "    </tr>\n",
       "  </thead>\n",
       "  <tbody>\n",
       "    <tr>\n",
       "      <th>3813</th>\n",
       "      <td>f</td>\n",
       "      <td>80.000000</td>\n",
       "      <td>8.000000</td>\n",
       "      <td>10.000000</td>\n",
       "      <td>4.000000</td>\n",
       "      <td>8.000000</td>\n",
       "      <td>10.000000</td>\n",
       "      <td>8.000000</td>\n",
       "    </tr>\n",
       "    <tr>\n",
       "      <th>3814</th>\n",
       "      <td>f</td>\n",
       "      <td>100.000000</td>\n",
       "      <td>10.000000</td>\n",
       "      <td>10.000000</td>\n",
       "      <td>10.000000</td>\n",
       "      <td>10.000000</td>\n",
       "      <td>10.000000</td>\n",
       "      <td>10.000000</td>\n",
       "    </tr>\n",
       "    <tr>\n",
       "      <th>mean</th>\n",
       "      <td>NaN</td>\n",
       "      <td>93.652893</td>\n",
       "      <td>9.552893</td>\n",
       "      <td>9.454272</td>\n",
       "      <td>9.731675</td>\n",
       "      <td>9.758363</td>\n",
       "      <td>9.564823</td>\n",
       "      <td>9.359946</td>\n",
       "    </tr>\n",
       "  </tbody>\n",
       "</table>\n",
       "</div>"
      ],
      "text/plain": [
       "     host_is_superhost  review_scores_rating  review_scores_accuracy  \\\n",
       "3813                 f             80.000000                8.000000   \n",
       "3814                 f            100.000000               10.000000   \n",
       "mean               NaN             93.652893                9.552893   \n",
       "\n",
       "      review_scores_cleanliness  review_scores_checkin  \\\n",
       "3813                  10.000000               4.000000   \n",
       "3814                  10.000000              10.000000   \n",
       "mean                   9.454272               9.731675   \n",
       "\n",
       "      review_scores_communication  review_scores_location  review_scores_value  \n",
       "3813                     8.000000               10.000000             8.000000  \n",
       "3814                    10.000000               10.000000            10.000000  \n",
       "mean                     9.758363                9.564823             9.359946  "
      ]
     },
     "execution_count": 226,
     "metadata": {},
     "output_type": "execute_result"
    }
   ],
   "source": [
    "#Assure it looks like what you would expect\n",
    "#Add a row with the mean for each column\n",
    "df_0.loc['mean'] = df_0.mean()\n",
    "df_0.iloc[-3:]"
   ]
  },
  {
   "cell_type": "code",
   "execution_count": 227,
   "metadata": {
    "scrolled": true
   },
   "outputs": [
    {
     "name": "stderr",
     "output_type": "stream",
     "text": [
      "/opt/conda/lib/python3.6/site-packages/ipykernel_launcher.py:3: SettingWithCopyWarning: \n",
      "A value is trying to be set on a copy of a slice from a DataFrame\n",
      "\n",
      "See the caveats in the documentation: http://pandas.pydata.org/pandas-docs/stable/indexing.html#indexing-view-versus-copy\n",
      "  This is separate from the ipykernel package so we can avoid doing imports until\n"
     ]
    },
    {
     "data": {
      "text/html": [
       "<div>\n",
       "<style scoped>\n",
       "    .dataframe tbody tr th:only-of-type {\n",
       "        vertical-align: middle;\n",
       "    }\n",
       "\n",
       "    .dataframe tbody tr th {\n",
       "        vertical-align: top;\n",
       "    }\n",
       "\n",
       "    .dataframe thead th {\n",
       "        text-align: right;\n",
       "    }\n",
       "</style>\n",
       "<table border=\"1\" class=\"dataframe\">\n",
       "  <thead>\n",
       "    <tr style=\"text-align: right;\">\n",
       "      <th></th>\n",
       "      <th>host_is_superhost</th>\n",
       "      <th>review_scores_rating</th>\n",
       "      <th>review_scores_accuracy</th>\n",
       "      <th>review_scores_cleanliness</th>\n",
       "      <th>review_scores_checkin</th>\n",
       "      <th>review_scores_communication</th>\n",
       "      <th>review_scores_location</th>\n",
       "      <th>review_scores_value</th>\n",
       "    </tr>\n",
       "  </thead>\n",
       "  <tbody>\n",
       "    <tr>\n",
       "      <th>3806</th>\n",
       "      <td>t</td>\n",
       "      <td>100.000000</td>\n",
       "      <td>10.000000</td>\n",
       "      <td>10.000000</td>\n",
       "      <td>10.000000</td>\n",
       "      <td>10.0000</td>\n",
       "      <td>10.000000</td>\n",
       "      <td>10.000000</td>\n",
       "    </tr>\n",
       "    <tr>\n",
       "      <th>3812</th>\n",
       "      <td>t</td>\n",
       "      <td>96.000000</td>\n",
       "      <td>10.000000</td>\n",
       "      <td>10.000000</td>\n",
       "      <td>10.000000</td>\n",
       "      <td>10.0000</td>\n",
       "      <td>9.000000</td>\n",
       "      <td>10.000000</td>\n",
       "    </tr>\n",
       "    <tr>\n",
       "      <th>mean</th>\n",
       "      <td>NaN</td>\n",
       "      <td>97.395473</td>\n",
       "      <td>9.905459</td>\n",
       "      <td>9.885486</td>\n",
       "      <td>9.964048</td>\n",
       "      <td>9.9747</td>\n",
       "      <td>9.750999</td>\n",
       "      <td>9.749667</td>\n",
       "    </tr>\n",
       "  </tbody>\n",
       "</table>\n",
       "</div>"
      ],
      "text/plain": [
       "     host_is_superhost  review_scores_rating  review_scores_accuracy  \\\n",
       "3806                 t            100.000000               10.000000   \n",
       "3812                 t             96.000000               10.000000   \n",
       "mean               NaN             97.395473                9.905459   \n",
       "\n",
       "      review_scores_cleanliness  review_scores_checkin  \\\n",
       "3806                  10.000000              10.000000   \n",
       "3812                  10.000000              10.000000   \n",
       "mean                   9.885486               9.964048   \n",
       "\n",
       "      review_scores_communication  review_scores_location  review_scores_value  \n",
       "3806                      10.0000               10.000000            10.000000  \n",
       "3812                      10.0000                9.000000            10.000000  \n",
       "mean                       9.9747                9.750999             9.749667  "
      ]
     },
     "execution_count": 227,
     "metadata": {},
     "output_type": "execute_result"
    }
   ],
   "source": [
    "#Assure it looks like what you would expect\n",
    "#Add a row with the mean for each column\n",
    "df_1.loc['mean'] = df_1.mean()\n",
    "df_1.iloc[-3:]"
   ]
  },
  {
   "cell_type": "code",
   "execution_count": 228,
   "metadata": {
    "scrolled": false
   },
   "outputs": [
    {
     "data": {
      "text/html": [
       "<div>\n",
       "<style scoped>\n",
       "    .dataframe tbody tr th:only-of-type {\n",
       "        vertical-align: middle;\n",
       "    }\n",
       "\n",
       "    .dataframe tbody tr th {\n",
       "        vertical-align: top;\n",
       "    }\n",
       "\n",
       "    .dataframe thead th {\n",
       "        text-align: right;\n",
       "    }\n",
       "</style>\n",
       "<table border=\"1\" class=\"dataframe\">\n",
       "  <thead>\n",
       "    <tr style=\"text-align: right;\">\n",
       "      <th></th>\n",
       "      <th>mean</th>\n",
       "    </tr>\n",
       "  </thead>\n",
       "  <tbody>\n",
       "    <tr>\n",
       "      <th>review_scores_rating</th>\n",
       "      <td>97.395473</td>\n",
       "    </tr>\n",
       "    <tr>\n",
       "      <th>review_scores_accuracy</th>\n",
       "      <td>9.905459</td>\n",
       "    </tr>\n",
       "    <tr>\n",
       "      <th>review_scores_cleanliness</th>\n",
       "      <td>9.885486</td>\n",
       "    </tr>\n",
       "    <tr>\n",
       "      <th>review_scores_checkin</th>\n",
       "      <td>9.964048</td>\n",
       "    </tr>\n",
       "    <tr>\n",
       "      <th>review_scores_communication</th>\n",
       "      <td>9.974700</td>\n",
       "    </tr>\n",
       "    <tr>\n",
       "      <th>review_scores_location</th>\n",
       "      <td>9.750999</td>\n",
       "    </tr>\n",
       "    <tr>\n",
       "      <th>review_scores_value</th>\n",
       "      <td>9.749667</td>\n",
       "    </tr>\n",
       "  </tbody>\n",
       "</table>\n",
       "</div>"
      ],
      "text/plain": [
       "                                  mean\n",
       "review_scores_rating         97.395473\n",
       "review_scores_accuracy        9.905459\n",
       "review_scores_cleanliness     9.885486\n",
       "review_scores_checkin         9.964048\n",
       "review_scores_communication   9.974700\n",
       "review_scores_location        9.750999\n",
       "review_scores_value           9.749667"
      ]
     },
     "execution_count": 228,
     "metadata": {},
     "output_type": "execute_result"
    }
   ],
   "source": [
    "#Question 2\n",
    "#Subset the mean row and transpose\n",
    "value = ['mean']\n",
    "df_1_a = df_1[df_1.index.isin(value)]\n",
    "df_1_q2 = df_1_a.dropna(axis = 1).transpose()\n",
    "df_1_q2"
   ]
  },
  {
   "cell_type": "code",
   "execution_count": 229,
   "metadata": {
    "scrolled": true
   },
   "outputs": [
    {
     "data": {
      "text/html": [
       "<div>\n",
       "<style scoped>\n",
       "    .dataframe tbody tr th:only-of-type {\n",
       "        vertical-align: middle;\n",
       "    }\n",
       "\n",
       "    .dataframe tbody tr th {\n",
       "        vertical-align: top;\n",
       "    }\n",
       "\n",
       "    .dataframe thead th {\n",
       "        text-align: right;\n",
       "    }\n",
       "</style>\n",
       "<table border=\"1\" class=\"dataframe\">\n",
       "  <thead>\n",
       "    <tr style=\"text-align: right;\">\n",
       "      <th></th>\n",
       "      <th>mean</th>\n",
       "    </tr>\n",
       "  </thead>\n",
       "  <tbody>\n",
       "    <tr>\n",
       "      <th>review_scores_rating</th>\n",
       "      <td>93.652893</td>\n",
       "    </tr>\n",
       "    <tr>\n",
       "      <th>review_scores_accuracy</th>\n",
       "      <td>9.552893</td>\n",
       "    </tr>\n",
       "    <tr>\n",
       "      <th>review_scores_cleanliness</th>\n",
       "      <td>9.454272</td>\n",
       "    </tr>\n",
       "    <tr>\n",
       "      <th>review_scores_checkin</th>\n",
       "      <td>9.731675</td>\n",
       "    </tr>\n",
       "    <tr>\n",
       "      <th>review_scores_communication</th>\n",
       "      <td>9.758363</td>\n",
       "    </tr>\n",
       "    <tr>\n",
       "      <th>review_scores_location</th>\n",
       "      <td>9.564823</td>\n",
       "    </tr>\n",
       "    <tr>\n",
       "      <th>review_scores_value</th>\n",
       "      <td>9.359946</td>\n",
       "    </tr>\n",
       "  </tbody>\n",
       "</table>\n",
       "</div>"
      ],
      "text/plain": [
       "                                  mean\n",
       "review_scores_rating         93.652893\n",
       "review_scores_accuracy        9.552893\n",
       "review_scores_cleanliness     9.454272\n",
       "review_scores_checkin         9.731675\n",
       "review_scores_communication   9.758363\n",
       "review_scores_location        9.564823\n",
       "review_scores_value           9.359946"
      ]
     },
     "execution_count": 229,
     "metadata": {},
     "output_type": "execute_result"
    }
   ],
   "source": [
    "#Question 2\n",
    "#Subset the mean row and transpose\n",
    "df_0_a= df_0[df_0.index.isin(value)]\n",
    "df_0_q2 = df_0_a.dropna(axis = 1).transpose()\n",
    "df_0_q2"
   ]
  },
  {
   "cell_type": "code",
   "execution_count": 230,
   "metadata": {
    "scrolled": true
   },
   "outputs": [
    {
     "data": {
      "text/html": [
       "<style  type=\"text/css\" >\n",
       "    #T_c5e9180c_c7bc_11ec_9d64_0242ac120002row0_col2 {\n",
       "            width:  10em;\n",
       "             height:  80%;\n",
       "            background:  linear-gradient(90deg, transparent 0%, transparent 0.0%, #5fba7d 0.0%, #5fba7d 100.0%, transparent 100.0%);\n",
       "        }    #T_c5e9180c_c7bc_11ec_9d64_0242ac120002row1_col2 {\n",
       "            width:  10em;\n",
       "             height:  80%;\n",
       "            background:  linear-gradient(90deg, transparent 0%, transparent 0.0%, #5fba7d 0.0%, #5fba7d 9.4%, transparent 9.4%);\n",
       "        }    #T_c5e9180c_c7bc_11ec_9d64_0242ac120002row2_col2 {\n",
       "            width:  10em;\n",
       "             height:  80%;\n",
       "            background:  linear-gradient(90deg, transparent 0%, transparent 0.0%, #5fba7d 0.0%, #5fba7d 11.5%, transparent 11.5%);\n",
       "        }    #T_c5e9180c_c7bc_11ec_9d64_0242ac120002row3_col2 {\n",
       "            width:  10em;\n",
       "             height:  80%;\n",
       "            background:  linear-gradient(90deg, transparent 0%, transparent 0.0%, #5fba7d 0.0%, #5fba7d 6.2%, transparent 6.2%);\n",
       "        }    #T_c5e9180c_c7bc_11ec_9d64_0242ac120002row4_col2 {\n",
       "            width:  10em;\n",
       "             height:  80%;\n",
       "            background:  linear-gradient(90deg, transparent 0%, transparent 0.0%, #5fba7d 0.0%, #5fba7d 5.8%, transparent 5.8%);\n",
       "        }    #T_c5e9180c_c7bc_11ec_9d64_0242ac120002row5_col2 {\n",
       "            width:  10em;\n",
       "             height:  80%;\n",
       "            background:  linear-gradient(90deg, transparent 0%, transparent 0.0%, #5fba7d 0.0%, #5fba7d 5.0%, transparent 5.0%);\n",
       "        }    #T_c5e9180c_c7bc_11ec_9d64_0242ac120002row6_col2 {\n",
       "            width:  10em;\n",
       "             height:  80%;\n",
       "            background:  linear-gradient(90deg, transparent 0%, transparent 0.0%, #5fba7d 0.0%, #5fba7d 10.4%, transparent 10.4%);\n",
       "        }</style>  \n",
       "<table id=\"T_c5e9180c_c7bc_11ec_9d64_0242ac120002\" > \n",
       "<thead>    <tr> \n",
       "        <th class=\"blank level0\" ></th> \n",
       "        <th class=\"col_heading level0 col0\" >df_1_q2</th> \n",
       "        <th class=\"col_heading level0 col1\" >df_0_q2</th> \n",
       "        <th class=\"col_heading level0 col2\" >Difference</th> \n",
       "    </tr></thead> \n",
       "<tbody>    <tr> \n",
       "        <th id=\"T_c5e9180c_c7bc_11ec_9d64_0242ac120002level0_row0\" class=\"row_heading level0 row0\" >review_scores_rating</th> \n",
       "        <td id=\"T_c5e9180c_c7bc_11ec_9d64_0242ac120002row0_col0\" class=\"data row0 col0\" >97.3955</td> \n",
       "        <td id=\"T_c5e9180c_c7bc_11ec_9d64_0242ac120002row0_col1\" class=\"data row0 col1\" >93.6529</td> \n",
       "        <td id=\"T_c5e9180c_c7bc_11ec_9d64_0242ac120002row0_col2\" class=\"data row0 col2\" >3.74258</td> \n",
       "    </tr>    <tr> \n",
       "        <th id=\"T_c5e9180c_c7bc_11ec_9d64_0242ac120002level0_row1\" class=\"row_heading level0 row1\" >review_scores_accuracy</th> \n",
       "        <td id=\"T_c5e9180c_c7bc_11ec_9d64_0242ac120002row1_col0\" class=\"data row1 col0\" >9.90546</td> \n",
       "        <td id=\"T_c5e9180c_c7bc_11ec_9d64_0242ac120002row1_col1\" class=\"data row1 col1\" >9.55289</td> \n",
       "        <td id=\"T_c5e9180c_c7bc_11ec_9d64_0242ac120002row1_col2\" class=\"data row1 col2\" >0.352567</td> \n",
       "    </tr>    <tr> \n",
       "        <th id=\"T_c5e9180c_c7bc_11ec_9d64_0242ac120002level0_row2\" class=\"row_heading level0 row2\" >review_scores_cleanliness</th> \n",
       "        <td id=\"T_c5e9180c_c7bc_11ec_9d64_0242ac120002row2_col0\" class=\"data row2 col0\" >9.88549</td> \n",
       "        <td id=\"T_c5e9180c_c7bc_11ec_9d64_0242ac120002row2_col1\" class=\"data row2 col1\" >9.45427</td> \n",
       "        <td id=\"T_c5e9180c_c7bc_11ec_9d64_0242ac120002row2_col2\" class=\"data row2 col2\" >0.431214</td> \n",
       "    </tr>    <tr> \n",
       "        <th id=\"T_c5e9180c_c7bc_11ec_9d64_0242ac120002level0_row3\" class=\"row_heading level0 row3\" >review_scores_checkin</th> \n",
       "        <td id=\"T_c5e9180c_c7bc_11ec_9d64_0242ac120002row3_col0\" class=\"data row3 col0\" >9.96405</td> \n",
       "        <td id=\"T_c5e9180c_c7bc_11ec_9d64_0242ac120002row3_col1\" class=\"data row3 col1\" >9.73168</td> \n",
       "        <td id=\"T_c5e9180c_c7bc_11ec_9d64_0242ac120002row3_col2\" class=\"data row3 col2\" >0.232373</td> \n",
       "    </tr>    <tr> \n",
       "        <th id=\"T_c5e9180c_c7bc_11ec_9d64_0242ac120002level0_row4\" class=\"row_heading level0 row4\" >review_scores_communication</th> \n",
       "        <td id=\"T_c5e9180c_c7bc_11ec_9d64_0242ac120002row4_col0\" class=\"data row4 col0\" >9.9747</td> \n",
       "        <td id=\"T_c5e9180c_c7bc_11ec_9d64_0242ac120002row4_col1\" class=\"data row4 col1\" >9.75836</td> \n",
       "        <td id=\"T_c5e9180c_c7bc_11ec_9d64_0242ac120002row4_col2\" class=\"data row4 col2\" >0.216337</td> \n",
       "    </tr>    <tr> \n",
       "        <th id=\"T_c5e9180c_c7bc_11ec_9d64_0242ac120002level0_row5\" class=\"row_heading level0 row5\" >review_scores_location</th> \n",
       "        <td id=\"T_c5e9180c_c7bc_11ec_9d64_0242ac120002row5_col0\" class=\"data row5 col0\" >9.751</td> \n",
       "        <td id=\"T_c5e9180c_c7bc_11ec_9d64_0242ac120002row5_col1\" class=\"data row5 col1\" >9.56482</td> \n",
       "        <td id=\"T_c5e9180c_c7bc_11ec_9d64_0242ac120002row5_col2\" class=\"data row5 col2\" >0.186176</td> \n",
       "    </tr>    <tr> \n",
       "        <th id=\"T_c5e9180c_c7bc_11ec_9d64_0242ac120002level0_row6\" class=\"row_heading level0 row6\" >review_scores_value</th> \n",
       "        <td id=\"T_c5e9180c_c7bc_11ec_9d64_0242ac120002row6_col0\" class=\"data row6 col0\" >9.74967</td> \n",
       "        <td id=\"T_c5e9180c_c7bc_11ec_9d64_0242ac120002row6_col1\" class=\"data row6 col1\" >9.35995</td> \n",
       "        <td id=\"T_c5e9180c_c7bc_11ec_9d64_0242ac120002row6_col2\" class=\"data row6 col2\" >0.389721</td> \n",
       "    </tr></tbody> \n",
       "</table> "
      ],
      "text/plain": [
       "<pandas.io.formats.style.Styler at 0x7f6d54ed35c0>"
      ]
     },
     "execution_count": 230,
     "metadata": {},
     "output_type": "execute_result"
    }
   ],
   "source": [
    "#Question 2\n",
    "#Merge the two mean data frames and calculate the Difference per each review score category for each of the data frames (host_is_superhost '= True' - '= False')\n",
    "\n",
    "comp_df = pd.merge(df_1_q2, df_0_q2, left_index=True, right_index=True)\n",
    "comp_df.columns = ['df_1_q2', 'df_0_q2']\n",
    "comp_df['Difference'] = (comp_df['df_1_q2'] - comp_df['df_0_q2'])\n",
    "comp_df.style.bar(subset=['Difference'], align='mid', color=['#d65f5f', '#5fba7d'])\n"
   ]
  },
  {
   "cell_type": "markdown",
   "metadata": {},
   "source": [
    "##### Line break for question 3\n",
    "How well can we predict price using  the data that we have?"
   ]
  },
  {
   "cell_type": "code",
   "execution_count": 231,
   "metadata": {},
   "outputs": [
    {
     "data": {
      "text/plain": [
       "(3818, 54)"
      ]
     },
     "execution_count": 231,
     "metadata": {},
     "output_type": "execute_result"
    }
   ],
   "source": [
    "#Question 3\n",
    "#Using this data frame with the amenities_total column as the base df\n",
    "df_a.shape "
   ]
  },
  {
   "cell_type": "code",
   "execution_count": 232,
   "metadata": {
    "scrolled": true
   },
   "outputs": [
    {
     "data": {
      "text/plain": [
       "dtype('float64')"
      ]
     },
     "execution_count": 232,
     "metadata": {},
     "output_type": "execute_result"
    }
   ],
   "source": [
    "#Question 3\n",
    "#Converting price data type to a float64 so that the original 'price' column can be replaced by the 'price_converted' column\n",
    "df_a['price_a'] = df_a['price'].replace({'\\$':'', '\\,':''}, regex = True)\n",
    "df_a['price_converted'] = pd.to_numeric(df_a['price_a'])\n",
    "df_a['price_converted'].dtype\n"
   ]
  },
  {
   "cell_type": "code",
   "execution_count": 233,
   "metadata": {},
   "outputs": [
    {
     "data": {
      "text/plain": [
       "dtype('float64')"
      ]
     },
     "execution_count": 233,
     "metadata": {},
     "output_type": "execute_result"
    }
   ],
   "source": [
    "#Question 3\n",
    "#Converting extra_people data type to a float64 so that the original 'extra_people' column can be replaced by the 'extra_people' column\n",
    "df_a['extra_people_a'] = df_a['extra_people'].replace({'\\$':'', '\\,':''}, regex = True)\n",
    "df_a['extra_people_converted'] = pd.to_numeric(df_a['extra_people_a'])\n",
    "df_a['extra_people_converted'].dtype"
   ]
  },
  {
   "cell_type": "code",
   "execution_count": 234,
   "metadata": {},
   "outputs": [
    {
     "data": {
      "text/plain": [
       "dtype('float64')"
      ]
     },
     "execution_count": 234,
     "metadata": {},
     "output_type": "execute_result"
    }
   ],
   "source": [
    "#Question 3\n",
    "#Converting host_response_rate type to a float64 so that the original 'host_response_rate' column can be replaced by the 'host_response_rate_converted' column\n",
    "df_a['host_response_rate_a'] = df_a['host_response_rate'].replace({'\\%':'', '\\,':''}, regex = True)\n",
    "df_a['host_response_rate_converted'] = pd.to_numeric(df_a['host_response_rate_a'])\n",
    "df_a['host_response_rate_converted'].dtype"
   ]
  },
  {
   "cell_type": "code",
   "execution_count": 235,
   "metadata": {},
   "outputs": [
    {
     "data": {
      "text/plain": [
       "dtype('float64')"
      ]
     },
     "execution_count": 235,
     "metadata": {},
     "output_type": "execute_result"
    }
   ],
   "source": [
    "#Question 3\n",
    "#Converting host acceptance rate data type to a float64 so that the original 'host_acceptance_rate' column can be replaced by the 'host_acceptance_rate_converted' column\n",
    "df_a['host_acceptance_rate_a'] = df_a['host_acceptance_rate'].replace({'\\%':'', '\\,':''}, regex = True)\n",
    "df_a['host_acceptance_rate_converted'] = pd.to_numeric(df_a['host_acceptance_rate_a'])\n",
    "df_a['host_acceptance_rate_converted'].dtype"
   ]
  },
  {
   "cell_type": "code",
   "execution_count": 236,
   "metadata": {},
   "outputs": [
    {
     "data": {
      "text/plain": [
       "(3818, 45)"
      ]
     },
     "execution_count": 236,
     "metadata": {},
     "output_type": "execute_result"
    }
   ],
   "source": [
    "#Question 3\n",
    "#Drop columns that I do not wish to use in my model\n",
    "#Some of the reasoning for this is the columns have data that can not be used i.e. paragraphs, or has been replaced by one of the converted columns etc\n",
    "df_a1 = df_a.drop(['host_verifications','host_since','first_review', 'last_review','host_location', 'host_about', 'host_picture_url', 'host_neighbourhood', 'weekly_price', 'price', 'price_a', 'extra_people_a', 'extra_people', 'host_response_rate', 'host_response_rate_a', 'host_acceptance_rate', 'host_acceptance_rate_a'], axis = 1)\n",
    "df_a1.shape"
   ]
  },
  {
   "cell_type": "code",
   "execution_count": 237,
   "metadata": {},
   "outputs": [],
   "source": [
    "#Question 3\n",
    "#define a function to clean up the data\n",
    "\n",
    "def clean_data(df_a1):\n",
    "    # Drop rows with missing price_converted values from the Data Frame\n",
    "    #There should be none, bit as a precaution\n",
    "    df_a1 = df_a1.dropna(subset=['price_converted'], axis=0)\n",
    "    y = df_a1['price_converted']\n",
    "    \n",
    "    \n",
    "    # Fill numeric columns with the mean of the columns\n",
    "    num_vars = df_a1.select_dtypes(include=['float', 'int', 'float64']).columns\n",
    "    for col in num_vars:\n",
    "        df_a1[col].fillna((df_a1[col].mean()), inplace=True)\n",
    "        \n",
    "    # Dummy the categorical variables\n",
    "    cat_vars = df_a1.select_dtypes(include=['object']).copy().columns\n",
    "    for var in  cat_vars:\n",
    "        # for each cat add dummy var, drop original column\n",
    "        df_a1 = pd.concat([df_a1.drop(var, axis=1), pd.get_dummies(df_a1[var], prefix=var, prefix_sep='_', drop_first=True)], axis=1)\n",
    "    \n",
    "    X = df_a1\n",
    "    return X, y\n",
    "    \n",
    "#Use the function to create X and y\n",
    "X, y = clean_data(df_a1)   "
   ]
  },
  {
   "cell_type": "code",
   "execution_count": 238,
   "metadata": {},
   "outputs": [
    {
     "data": {
      "text/plain": [
       "((3818, 313), (3818,))"
      ]
     },
     "execution_count": 238,
     "metadata": {},
     "output_type": "execute_result"
    }
   ],
   "source": [
    "X.shape, y.shape"
   ]
  },
  {
   "cell_type": "code",
   "execution_count": 258,
   "metadata": {},
   "outputs": [],
   "source": [
    "#Instantiate, Fit, Predict and score the modelfor predicting the price_converted\n",
    "X_train, X_test, y_train, y_test = train_test_split(X, y, test_size = .3, random_state=42)\n",
    "\n",
    "\n",
    "#Instantiate the model\n",
    "lm_model = LinearRegression(normalize=True) \n",
    "\n",
    "#Fit - why does this break?\n",
    "lm_model.fit(X_train, y_train) \n",
    "\n",
    "#Predict\n",
    "y_test_preds = lm_model.predict(X_test)\n",
    "y_train_preds = lm_model.predict(X_train)\n",
    "\n",
    "#Score\n",
    "test_score = r2_score(y_test, y_test_preds)\n",
    "train_score = r2_score(y_train, y_train_preds)\n",
    "\n",
    "#return test_score, train_score, lm_model, X_train, X_test, y_train, y_test\n",
    "\n",
    "\n"
   ]
  },
  {
   "cell_type": "code",
   "execution_count": 240,
   "metadata": {},
   "outputs": [
    {
     "data": {
      "text/plain": [
       "'The r-squared score for the model is 0.8792510337925293 on 1146 values.'"
      ]
     },
     "execution_count": 240,
     "metadata": {},
     "output_type": "execute_result"
    }
   ],
   "source": [
    "#Predict and score the model - Testing model\n",
    "y_test_preds = lm_model.predict(X_test) \n",
    "\"The r-squared score for the model is {} on {} values.\".format(r2_score(y_test, y_test_preds), len(y_test))"
   ]
  },
  {
   "cell_type": "code",
   "execution_count": 241,
   "metadata": {},
   "outputs": [
    {
     "data": {
      "text/plain": [
       "'The r-squared score for the model is 1.0 on 2672 values.'"
      ]
     },
     "execution_count": 241,
     "metadata": {},
     "output_type": "execute_result"
    }
   ],
   "source": [
    "#Predict and score the model - Training model\n",
    "y_train_preds = lm_model.predict(X_train) \n",
    "\"The r-squared score for the model is {} on {} values.\".format(r2_score(y_train, y_train_preds), len(y_train))"
   ]
  }
 ],
 "metadata": {
  "kernelspec": {
   "display_name": "Python 3",
   "language": "python",
   "name": "python3"
  },
  "language_info": {
   "codemirror_mode": {
    "name": "ipython",
    "version": 3
   },
   "file_extension": ".py",
   "mimetype": "text/x-python",
   "name": "python",
   "nbconvert_exporter": "python",
   "pygments_lexer": "ipython3",
   "version": "3.6.3"
  }
 },
 "nbformat": 4,
 "nbformat_minor": 5
}
